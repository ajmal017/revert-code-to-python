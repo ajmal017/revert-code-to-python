{
  "nbformat": 4,
  "nbformat_minor": 0,
  "metadata": {
    "colab": {
      "name": "2020_6_4_chap14_market_model.ipynb",
      "provenance": [],
      "collapsed_sections": [],
      "include_colab_link": true
    },
    "kernelspec": {
      "name": "python3",
      "display_name": "Python 3"
    }
  },
  "cells": [
    {
      "cell_type": "markdown",
      "metadata": {
        "id": "view-in-github",
        "colab_type": "text"
      },
      "source": [
        "<a href=\"https://colab.research.google.com/github/xiaoyi-yuxiao/revert-code-to-python/blob/master/2020_6_4_chap14_market_model.ipynb\" target=\"_parent\"><img src=\"https://colab.research.google.com/assets/colab-badge.svg\" alt=\"Open In Colab\"/></a>"
      ]
    },
    {
      "cell_type": "code",
      "metadata": {
        "id": "ojKH1zPU8Bja",
        "colab_type": "code",
        "outputId": "39f88439-2b1f-44cd-a327-85737db69b56",
        "colab": {
          "base_uri": "https://localhost:8080/",
          "height": 357
        }
      },
      "source": [
        "pip install yfinance"
      ],
      "execution_count": 0,
      "outputs": [
        {
          "output_type": "stream",
          "text": [
            "Collecting yfinance\n",
            "  Downloading https://files.pythonhosted.org/packages/c2/31/8b374a12b90def92a4e27d0fc595fc43635f395984e36a075244d98bd265/yfinance-0.1.54.tar.gz\n",
            "Requirement already satisfied: pandas>=0.24 in /usr/local/lib/python3.6/dist-packages (from yfinance) (1.0.4)\n",
            "Requirement already satisfied: numpy>=1.15 in /usr/local/lib/python3.6/dist-packages (from yfinance) (1.18.4)\n",
            "Requirement already satisfied: requests>=2.20 in /usr/local/lib/python3.6/dist-packages (from yfinance) (2.23.0)\n",
            "Requirement already satisfied: multitasking>=0.0.7 in /usr/local/lib/python3.6/dist-packages (from yfinance) (0.0.9)\n",
            "Requirement already satisfied: python-dateutil>=2.6.1 in /usr/local/lib/python3.6/dist-packages (from pandas>=0.24->yfinance) (2.8.1)\n",
            "Requirement already satisfied: pytz>=2017.2 in /usr/local/lib/python3.6/dist-packages (from pandas>=0.24->yfinance) (2018.9)\n",
            "Requirement already satisfied: certifi>=2017.4.17 in /usr/local/lib/python3.6/dist-packages (from requests>=2.20->yfinance) (2020.4.5.1)\n",
            "Requirement already satisfied: chardet<4,>=3.0.2 in /usr/local/lib/python3.6/dist-packages (from requests>=2.20->yfinance) (3.0.4)\n",
            "Requirement already satisfied: urllib3!=1.25.0,!=1.25.1,<1.26,>=1.21.1 in /usr/local/lib/python3.6/dist-packages (from requests>=2.20->yfinance) (1.24.3)\n",
            "Requirement already satisfied: idna<3,>=2.5 in /usr/local/lib/python3.6/dist-packages (from requests>=2.20->yfinance) (2.9)\n",
            "Requirement already satisfied: six>=1.5 in /usr/local/lib/python3.6/dist-packages (from python-dateutil>=2.6.1->pandas>=0.24->yfinance) (1.12.0)\n",
            "Building wheels for collected packages: yfinance\n",
            "  Building wheel for yfinance (setup.py) ... \u001b[?25l\u001b[?25hdone\n",
            "  Created wheel for yfinance: filename=yfinance-0.1.54-py2.py3-none-any.whl size=22409 sha256=e543c849bea330ee5021084773a05c227d703ad1a3e6fb581f962185de7f663a\n",
            "  Stored in directory: /root/.cache/pip/wheels/f9/e3/5b/ec24dd2984b12d61e0abf26289746c2436a0e7844f26f2515c\n",
            "Successfully built yfinance\n",
            "Installing collected packages: yfinance\n",
            "Successfully installed yfinance-0.1.54\n"
          ],
          "name": "stdout"
        }
      ]
    },
    {
      "cell_type": "code",
      "metadata": {
        "id": "UFEdHAKhWnhy",
        "colab_type": "code",
        "outputId": "4d371277-a0be-4e00-b4c6-ea9564b95b12",
        "colab": {
          "base_uri": "https://localhost:8080/",
          "height": 85
        }
      },
      "source": [
        "pip install yahoo_fin"
      ],
      "execution_count": 0,
      "outputs": [
        {
          "output_type": "stream",
          "text": [
            "Collecting yahoo_fin\n",
            "  Downloading https://files.pythonhosted.org/packages/b4/e8/b42de33475fb22ea051753a64c1b101ee901df88013801f722001998b36d/yahoo_fin-0.8.5-py3-none-any.whl\n",
            "Installing collected packages: yahoo-fin\n",
            "Successfully installed yahoo-fin-0.8.5\n"
          ],
          "name": "stdout"
        }
      ]
    },
    {
      "cell_type": "code",
      "metadata": {
        "id": "iO2-RMyIW6bB",
        "colab_type": "code",
        "outputId": "4bad8c88-593c-4bc5-8b42-3f7287ea919c",
        "colab": {
          "base_uri": "https://localhost:8080/",
          "height": 939
        }
      },
      "source": [
        "pip install requests_html"
      ],
      "execution_count": 0,
      "outputs": [
        {
          "output_type": "stream",
          "text": [
            "Collecting requests_html\n",
            "  Downloading https://files.pythonhosted.org/packages/24/bc/a4380f09bab3a776182578ce6b2771e57259d0d4dbce178205779abdc347/requests_html-0.10.0-py3-none-any.whl\n",
            "Collecting w3lib\n",
            "  Downloading https://files.pythonhosted.org/packages/a3/59/b6b14521090e7f42669cafdb84b0ab89301a42f1f1a82fcf5856661ea3a7/w3lib-1.22.0-py2.py3-none-any.whl\n",
            "Requirement already satisfied: requests in /usr/local/lib/python3.6/dist-packages (from requests_html) (2.23.0)\n",
            "Requirement already satisfied: bs4 in /usr/local/lib/python3.6/dist-packages (from requests_html) (0.0.1)\n",
            "Collecting parse\n",
            "  Downloading https://files.pythonhosted.org/packages/f4/65/220bb4075fddb09d5b3ea2c1c1fa66c1c72be9361ec187aab50fa161e576/parse-1.15.0.tar.gz\n",
            "Collecting pyquery\n",
            "  Downloading https://files.pythonhosted.org/packages/78/43/95d42e386c61cb639d1a0b94f0c0b9f0b7d6b981ad3c043a836c8b5bc68b/pyquery-1.4.1-py2.py3-none-any.whl\n",
            "Collecting pyppeteer>=0.0.14\n",
            "\u001b[?25l  Downloading https://files.pythonhosted.org/packages/5d/4b/3c2aabdd1b91fa52aa9de6cde33b488b0592b4d48efb0ad9efbf71c49f5b/pyppeteer-0.2.2-py3-none-any.whl (145kB)\n",
            "\u001b[K     |████████████████████████████████| 153kB 7.0MB/s \n",
            "\u001b[?25hCollecting fake-useragent\n",
            "  Downloading https://files.pythonhosted.org/packages/d1/79/af647635d6968e2deb57a208d309f6069d31cb138066d7e821e575112a80/fake-useragent-0.1.11.tar.gz\n",
            "Requirement already satisfied: six>=1.4.1 in /usr/local/lib/python3.6/dist-packages (from w3lib->requests_html) (1.12.0)\n",
            "Requirement already satisfied: certifi>=2017.4.17 in /usr/local/lib/python3.6/dist-packages (from requests->requests_html) (2020.4.5.1)\n",
            "Requirement already satisfied: idna<3,>=2.5 in /usr/local/lib/python3.6/dist-packages (from requests->requests_html) (2.9)\n",
            "Requirement already satisfied: urllib3!=1.25.0,!=1.25.1,<1.26,>=1.21.1 in /usr/local/lib/python3.6/dist-packages (from requests->requests_html) (1.24.3)\n",
            "Requirement already satisfied: chardet<4,>=3.0.2 in /usr/local/lib/python3.6/dist-packages (from requests->requests_html) (3.0.4)\n",
            "Requirement already satisfied: beautifulsoup4 in /usr/local/lib/python3.6/dist-packages (from bs4->requests_html) (4.6.3)\n",
            "Requirement already satisfied: lxml>=2.1 in /usr/local/lib/python3.6/dist-packages (from pyquery->requests_html) (4.2.6)\n",
            "Collecting cssselect>0.7.9\n",
            "  Downloading https://files.pythonhosted.org/packages/3b/d4/3b5c17f00cce85b9a1e6f91096e1cc8e8ede2e1be8e96b87ce1ed09e92c5/cssselect-1.1.0-py2.py3-none-any.whl\n",
            "Collecting websockets<9.0,>=8.1\n",
            "\u001b[?25l  Downloading https://files.pythonhosted.org/packages/bb/d9/856af84843912e2853b1b6e898ac8b802989fcf9ecf8e8445a1da263bf3b/websockets-8.1-cp36-cp36m-manylinux2010_x86_64.whl (78kB)\n",
            "\u001b[K     |████████████████████████████████| 81kB 9.0MB/s \n",
            "\u001b[?25hCollecting tqdm<5.0.0,>=4.42.1\n",
            "\u001b[?25l  Downloading https://files.pythonhosted.org/packages/f3/76/4697ce203a3d42b2ead61127b35e5fcc26bba9a35c03b32a2bd342a4c869/tqdm-4.46.1-py2.py3-none-any.whl (63kB)\n",
            "\u001b[K     |████████████████████████████████| 71kB 8.5MB/s \n",
            "\u001b[?25hCollecting pyee<8.0.0,>=7.0.1\n",
            "  Downloading https://files.pythonhosted.org/packages/f6/28/1cedd44c27907f1507a28ff2d36fc6cdb981c9deff2fa288bc48a700c7c9/pyee-7.0.2-py2.py3-none-any.whl\n",
            "Collecting appdirs<2.0.0,>=1.4.3\n",
            "  Downloading https://files.pythonhosted.org/packages/3b/00/2344469e2084fb287c2e0b57b72910309874c3245463acd6cf5e3db69324/appdirs-1.4.4-py2.py3-none-any.whl\n",
            "Building wheels for collected packages: parse, fake-useragent\n",
            "  Building wheel for parse (setup.py) ... \u001b[?25l\u001b[?25hdone\n",
            "  Created wheel for parse: filename=parse-1.15.0-cp36-none-any.whl size=23710 sha256=2ff8b64e67842c57e413e58ce9dfd154a241d62ccefa4eb95f464351ec59c7d8\n",
            "  Stored in directory: /root/.cache/pip/wheels/07/ee/c8/eced0759f09fc635398ab1b8e89c38549b28e5db7fd4a53ba5\n",
            "  Building wheel for fake-useragent (setup.py) ... \u001b[?25l\u001b[?25hdone\n",
            "  Created wheel for fake-useragent: filename=fake_useragent-0.1.11-cp36-none-any.whl size=13484 sha256=e0173e6d5f29e425f2493d93383cac9f511d4895a917ecef895f7dbca0895c45\n",
            "  Stored in directory: /root/.cache/pip/wheels/5e/63/09/d1dc15179f175357d3f5c00cbffbac37f9e8690d80545143ff\n",
            "Successfully built parse fake-useragent\n",
            "\u001b[31mERROR: pyppeteer 0.2.2 has requirement urllib3<2.0.0,>=1.25.8, but you'll have urllib3 1.24.3 which is incompatible.\u001b[0m\n",
            "Installing collected packages: w3lib, parse, cssselect, pyquery, websockets, tqdm, pyee, appdirs, pyppeteer, fake-useragent, requests-html\n",
            "  Found existing installation: tqdm 4.41.1\n",
            "    Uninstalling tqdm-4.41.1:\n",
            "      Successfully uninstalled tqdm-4.41.1\n",
            "Successfully installed appdirs-1.4.4 cssselect-1.1.0 fake-useragent-0.1.11 parse-1.15.0 pyee-7.0.2 pyppeteer-0.2.2 pyquery-1.4.1 requests-html-0.10.0 tqdm-4.46.1 w3lib-1.22.0 websockets-8.1\n"
          ],
          "name": "stdout"
        },
        {
          "output_type": "display_data",
          "data": {
            "application/vnd.colab-display-data+json": {
              "pip_warning": {
                "packages": [
                  "tqdm"
                ]
              }
            }
          },
          "metadata": {
            "tags": []
          }
        }
      ]
    },
    {
      "cell_type": "code",
      "metadata": {
        "id": "msPwaYWmg9d7",
        "colab_type": "code",
        "outputId": "b9b75562-607c-4029-b583-fd663d0956fa",
        "colab": {
          "base_uri": "https://localhost:8080/",
          "height": 102
        }
      },
      "source": [
        "pip install requests"
      ],
      "execution_count": 0,
      "outputs": [
        {
          "output_type": "stream",
          "text": [
            "Requirement already satisfied: requests in /usr/local/lib/python3.6/dist-packages (2.23.0)\n",
            "Requirement already satisfied: idna<3,>=2.5 in /usr/local/lib/python3.6/dist-packages (from requests) (2.9)\n",
            "Requirement already satisfied: chardet<4,>=3.0.2 in /usr/local/lib/python3.6/dist-packages (from requests) (3.0.4)\n",
            "Requirement already satisfied: urllib3!=1.25.0,!=1.25.1,<1.26,>=1.21.1 in /usr/local/lib/python3.6/dist-packages (from requests) (1.24.3)\n",
            "Requirement already satisfied: certifi>=2017.4.17 in /usr/local/lib/python3.6/dist-packages (from requests) (2020.4.5.1)\n"
          ],
          "name": "stdout"
        }
      ]
    },
    {
      "cell_type": "code",
      "metadata": {
        "id": "chI4GMJ1hFIU",
        "colab_type": "code",
        "outputId": "294ec841-78cf-4b99-d4a4-7721c200692b",
        "colab": {
          "base_uri": "https://localhost:8080/",
          "height": 51
        }
      },
      "source": [
        "pip install bs4"
      ],
      "execution_count": 0,
      "outputs": [
        {
          "output_type": "stream",
          "text": [
            "Requirement already satisfied: bs4 in /usr/local/lib/python3.6/dist-packages (0.0.1)\n",
            "Requirement already satisfied: beautifulsoup4 in /usr/local/lib/python3.6/dist-packages (from bs4) (4.6.3)\n"
          ],
          "name": "stdout"
        }
      ]
    },
    {
      "cell_type": "code",
      "metadata": {
        "id": "_5NKH4BXxi1S",
        "colab_type": "code",
        "colab": {}
      },
      "source": [
        "!pip install -U -q PyDrive"
      ],
      "execution_count": 0,
      "outputs": []
    },
    {
      "cell_type": "code",
      "metadata": {
        "id": "sg3ZUJ6yqVwa",
        "colab_type": "code",
        "colab": {}
      },
      "source": [
        "import yfinance as yf\n",
        "import matplotlib.pyplot as plt\n",
        "import numpy as np\n",
        "import pandas as pd\n",
        "from scipy.stats import kurtosis, skew\n",
        "from tabulate import tabulate\n",
        "import datetime as dt#get current date\n",
        "import statsmodels.api as sm\n",
        "from statsmodels.formula.api import ols\n",
        "from statsmodels.stats.anova import anova_lm\n",
        "from yahoo_fin.stock_info import get_quote_table\n",
        "import requests\n",
        "from bs4 import BeautifulSoup\n",
        "import matplotlib.ticker as mtick\n",
        "from google.colab import files\n",
        "from pydrive.auth import GoogleAuth\n",
        "from pydrive.drive import GoogleDrive\n",
        "from google.colab import auth\n",
        "from oauth2client.client import GoogleCredentials"
      ],
      "execution_count": 0,
      "outputs": []
    },
    {
      "cell_type": "code",
      "metadata": {
        "id": "LXe3dSm36orQ",
        "colab_type": "code",
        "colab": {}
      },
      "source": [
        "def Usr_input():\n",
        "  Stock=(input('Please enter ticker '+str(1)+'(default be WMT)-->') or 'WMT') # use or operation the set default input\n",
        "  previousday = dt.date.today()-dt.timedelta(days=1)# get the date of previous day\n",
        "  Default_end = previousday.strftime(\"%Y-%m-%d\") # change the format of the default datetime \n",
        "  years_ago = dt.date.today()-dt.timedelta(days=1852)\n",
        "  Default_start = years_ago.strftime(\"%Y-%m-%d\")\n",
        "  Start = input('Enter the start time(YYYY-MM-DD i.e 2014-12-16, press Enter Default = 5 Years ago)-->') or Default_start\n",
        "  End = input('Enter the end time(YYYY-MM-DD i.e 2016-12-16, press Enter Default = Yesterday)-->') or Default_end\n",
        "  T_interval = input('Please enter the time interval(you can choose 1d,1wk,1mo, press Enter Default = 1 month-->') or '1mo'\n",
        "  return Stock, Start, End, T_interval"
      ],
      "execution_count": 0,
      "outputs": []
    },
    {
      "cell_type": "code",
      "metadata": {
        "id": "lZ0YZ--Q6y96",
        "colab_type": "code",
        "colab": {}
      },
      "source": [
        "def calculate_ret(stock_a,stock_M,start,end_t,T_interval):\n",
        "  Stock_price_a = yf.download(stock_a,start=start,end=end_t,interval = T_interval)['Adj Close'].dropna()\n",
        "  Ret_a = Stock_price_a.pct_change()[1:]\n",
        "  Stock_price_M = yf.download(stock_M,start=start,end=end_t,interval = T_interval)['Adj Close'].dropna()\n",
        "  Ret_M = Stock_price_M.pct_change()[1:]\n",
        "  Ret = pd.DataFrame([Ret_a,Ret_M])\n",
        "  Ret = Ret.T\n",
        "  Ret.columns = [stock_a,'SNP']\n",
        "  return Ret"
      ],
      "execution_count": 0,
      "outputs": []
    },
    {
      "cell_type": "code",
      "metadata": {
        "id": "zyP4Lufcg1ZR",
        "colab_type": "code",
        "colab": {}
      },
      "source": [
        "def html_beautifulsoup(url):\n",
        "    response = requests.get(url)\n",
        "    html = response.content\n",
        "\n",
        "    #beautifulsoup html will not look like soure\n",
        "    #review beautifulsoup html to use find and findall\n",
        "    soup = BeautifulSoup(html,\"lxml\")\n",
        "    return soup\n",
        "\n",
        "#soup_html: soup html is not same as source html\n",
        "def yahoo_description(soup_html):\n",
        "    element = soup_html.find('h1',class_='D(ib) Fz(16px) Lh(18px)')\n",
        "    return element.text  "
      ],
      "execution_count": 0,
      "outputs": []
    },
    {
      "cell_type": "code",
      "metadata": {
        "id": "8MiPtlupgfsR",
        "colab_type": "code",
        "outputId": "ca57aae2-26f0-4405-f212-e3192625a156",
        "colab": {
          "base_uri": "https://localhost:8080/",
          "height": 85
        }
      },
      "source": [
        "(Ticker,macro_start,macro_end,macro_T_interval) = Usr_input()\n",
        "soup_html = html_beautifulsoup(\"https://finance.yahoo.com/quote/\"  +Ticker)\n",
        "Ticker_shortN = yahoo_description(soup_html)"
      ],
      "execution_count": 0,
      "outputs": [
        {
          "output_type": "stream",
          "text": [
            "Please enter ticker 1(default be WMT)-->\n",
            "Enter the start time(YYYY-MM-DD i.e 2014-12-16, press Enter Default = 5 Years ago)-->\n",
            "Enter the end time(YYYY-MM-DD i.e 2016-12-16, press Enter Default = Yesterday)-->\n",
            "Please enter the time interval(you can choose 1d,1wk,1mo, press Enter Default = 1 month-->\n"
          ],
          "name": "stdout"
        }
      ]
    },
    {
      "cell_type": "code",
      "metadata": {
        "id": "ZQF5Y1hi8eip",
        "colab_type": "code",
        "outputId": "89c8bd1e-9d6a-409d-b8d6-2be9fdc0a7c4",
        "colab": {
          "base_uri": "https://localhost:8080/",
          "height": 493
        }
      },
      "source": [
        "ret = calculate_ret(Ticker,'^GSPC',macro_start,macro_end,macro_T_interval)\n",
        "ret_M = ret['SNP']\n",
        "ret_a = ret[Ticker]\n",
        "\n",
        "ret_Mc = sm.add_constant(ret_M)\n",
        "results = sm.OLS(ret_a,ret_Mc).fit()\n",
        "print('                                 Market Model')\n",
        "print(results.summary())"
      ],
      "execution_count": 0,
      "outputs": [
        {
          "output_type": "stream",
          "text": [
            "[*********************100%***********************]  1 of 1 completed\n",
            "[*********************100%***********************]  1 of 1 completed\n",
            "                                 Market Model\n",
            "                            OLS Regression Results                            \n",
            "==============================================================================\n",
            "Dep. Variable:                    WMT   R-squared:                       0.055\n",
            "Model:                            OLS   Adj. R-squared:                  0.039\n",
            "Method:                 Least Squares   F-statistic:                     3.383\n",
            "Date:                Fri, 05 Jun 2020   Prob (F-statistic):             0.0710\n",
            "Time:                        12:53:16   Log-Likelihood:                 94.130\n",
            "No. Observations:                  60   AIC:                            -184.3\n",
            "Df Residuals:                      58   BIC:                            -180.1\n",
            "Df Model:                           1                                         \n",
            "Covariance Type:            nonrobust                                         \n",
            "==============================================================================\n",
            "                 coef    std err          t      P>|t|      [0.025      0.975]\n",
            "------------------------------------------------------------------------------\n",
            "const          0.0104      0.007      1.539      0.129      -0.003       0.024\n",
            "SNP            0.2875      0.156      1.839      0.071      -0.025       0.600\n",
            "==============================================================================\n",
            "Omnibus:                        7.173   Durbin-Watson:                   2.106\n",
            "Prob(Omnibus):                  0.028   Jarque-Bera (JB):                7.418\n",
            "Skew:                          -0.527   Prob(JB):                       0.0245\n",
            "Kurtosis:                       4.363   Cond. No.                         23.6\n",
            "==============================================================================\n",
            "\n",
            "Warnings:\n",
            "[1] Standard Errors assume that the covariance matrix of the errors is correctly specified.\n"
          ],
          "name": "stdout"
        }
      ]
    },
    {
      "cell_type": "code",
      "metadata": {
        "id": "v198PGDrerUJ",
        "colab_type": "code",
        "outputId": "feff8226-a796-4005-a222-f1c0f7e6d4c8",
        "colab": {
          "base_uri": "https://localhost:8080/",
          "height": 68
        }
      },
      "source": [
        "model = ols(Ticker+' ~ SNP',ret).fit()\n",
        "anova_table = anova_lm(model)\n",
        "print(anova_table)"
      ],
      "execution_count": 0,
      "outputs": [
        {
          "output_type": "stream",
          "text": [
            "            df    sum_sq   mean_sq         F    PR(>F)\n",
            "SNP        1.0  0.008889  0.008889  3.382963  0.070994\n",
            "Residual  58.0  0.152406  0.002628       NaN       NaN\n"
          ],
          "name": "stdout"
        }
      ]
    },
    {
      "cell_type": "code",
      "metadata": {
        "id": "y8rhWXKo_gH2",
        "colab_type": "code",
        "outputId": "aec634b2-87d6-4404-f7fc-f2d498308d31",
        "colab": {
          "base_uri": "https://localhost:8080/",
          "height": 510
        }
      },
      "source": [
        "plt.figure(figsize=(14,7))\n",
        "plt.gca().yaxis.set_major_formatter(mtick.PercentFormatter())\n",
        "plt.gca().xaxis.set_major_formatter(mtick.PercentFormatter())\n",
        "(a,b) = results.params\n",
        "R_sq = results.rsquared\n",
        "predict = a+np.multiply(ret_M,b)\n",
        "plt.scatter(ret_M*100,predict*100)\n",
        "plt.scatter(ret_M*100,ret_a*100)\n",
        "plt.text(7, 6, 'Y={:.4f}+{:.4f}*X'.format(a,b), fontsize=12)\n",
        "plt.text(7, 4, r'$R^2$ = {:.4f}'.format(R_sq), fontsize=12)\n",
        "plt.suptitle(Ticker_shortN+' Line Fit Plot',fontsize=20)\n",
        "plt.title(macro_start+' to '+macro_end,fontsize = 16)\n",
        "plt.grid(True)\n",
        "plt.xlabel('S&P 500 index',fontweight='bold')\n",
        "plt.ylabel(Ticker_shortN+'index',fontweight='bold')"
      ],
      "execution_count": 0,
      "outputs": [
        {
          "output_type": "execute_result",
          "data": {
            "text/plain": [
              "Text(0, 0.5, 'WMT - Walmart Inc.index')"
            ]
          },
          "metadata": {
            "tags": []
          },
          "execution_count": 47
        },
        {
          "output_type": "display_data",
          "data": {
            "image/png": "[encoded data removed]",
            "text/plain": [
              "<Figure size 1008x504 with 1 Axes>"
            ]
          },
          "metadata": {
            "tags": [],
            "needs_background": "light"
          }
        }
      ]
    },
    {
      "cell_type": "code",
      "metadata": {
        "id": "fHPtnvidWLXX",
        "colab_type": "code",
        "outputId": "52e04fc1-0d19-4c4b-ef11-8d8f01c0b03e",
        "colab": {
          "base_uri": "https://localhost:8080/",
          "height": 339
        }
      },
      "source": [
        "a=get_quote_table('AAPL' , dict_result = True)\n",
        "a = pd.DataFrame(a, index=[0])\n",
        "a = a.T\n",
        "a.columns = ['Value']\n",
        "print(a)"
      ],
      "execution_count": 0,
      "outputs": [
        {
          "output_type": "stream",
          "text": [
            "                                                Value\n",
            "1y Target Est                                  316.95\n",
            "52 Week Range                         185.77 - 327.85\n",
            "Ask                                      324.20 x 800\n",
            "Avg. Volume                               4.62163e+07\n",
            "Beta (5Y Monthly)                                1.24\n",
            "Bid                                     324.01 x 1300\n",
            "Day's Range                           320.83 - 325.62\n",
            "EPS (TTM)                                       11.89\n",
            "Earnings Date             Jul 28, 2020 - Aug 03, 2020\n",
            "Ex-Dividend Date                         May 08, 2020\n",
            "Forward Dividend & Yield                 3.28 (1.01%)\n",
            "Market Cap                                     1.397T\n",
            "Open                                           324.39\n",
            "PE Ratio (TTM)                                  27.11\n",
            "Previous Close                                 325.12\n",
            "Quote Price                                    322.32\n",
            "Volume                                    2.18901e+07\n"
          ],
          "name": "stdout"
        }
      ]
    },
    {
      "cell_type": "code",
      "metadata": {
        "id": "xUkFEZiju9Va",
        "colab_type": "code",
        "outputId": "647604b6-bd2a-4738-8d4c-a06bfc3358b3",
        "colab": {
          "base_uri": "https://localhost:8080/",
          "height": 1000
        }
      },
      "source": [
        "Ret = ret\n",
        "Ret.columns = [Ticker_shortN,'S&P 500']\n",
        "pd.options.display.float_format = '{:.4f}'.format\n",
        "print(Ret)"
      ],
      "execution_count": 0,
      "outputs": [
        {
          "output_type": "stream",
          "text": [
            "            WMT - Walmart Inc.  S&P 500\n",
            "Date                                   \n",
            "2015-07-01              0.0148   0.0197\n",
            "2015-08-01             -0.1007  -0.0626\n",
            "2015-09-01              0.0085  -0.0264\n",
            "2015-10-01             -0.1172   0.0830\n",
            "2015-11-01              0.0280   0.0005\n",
            "2015-12-01              0.0418  -0.0175\n",
            "2016-01-01              0.0916  -0.0507\n",
            "2016-02-01             -0.0003  -0.0041\n",
            "2016-03-01              0.0324   0.0660\n",
            "2016-04-01             -0.0164   0.0027\n",
            "2016-05-01              0.0585   0.0153\n",
            "2016-06-01              0.0392   0.0009\n",
            "2016-07-01             -0.0007   0.0356\n",
            "2016-08-01             -0.0210  -0.0012\n",
            "2016-09-01              0.0164  -0.0012\n",
            "2016-10-01             -0.0291  -0.0194\n",
            "2016-11-01              0.0059   0.0342\n",
            "2016-12-01             -0.0186   0.0182\n",
            "2017-01-01             -0.0275   0.0179\n",
            "2017-02-01              0.0628   0.0372\n",
            "2017-03-01              0.0162  -0.0004\n",
            "2017-04-01              0.0507   0.0091\n",
            "2017-05-01              0.0455   0.0116\n",
            "2017-06-01             -0.0307   0.0048\n",
            "2017-07-01              0.0570   0.0193\n",
            "2017-08-01             -0.0240   0.0005\n",
            "2017-09-01              0.0072   0.0193\n",
            "2017-10-01              0.1174   0.0222\n",
            "2017-11-01              0.1136   0.0037\n",
            "2017-12-01              0.0156   0.0343\n",
            "2018-01-01              0.0909   0.0562\n",
            "2018-02-01             -0.1556  -0.0389\n",
            "2018-03-01             -0.0116  -0.0269\n",
            "2018-04-01              0.0002   0.0027\n",
            "2018-05-01             -0.0669   0.0216\n",
            "2018-06-01              0.0442   0.0048\n",
            "2018-07-01              0.0418   0.0360\n",
            "2018-08-01              0.0743   0.0303\n",
            "2018-09-01             -0.0147   0.0043\n",
            "2018-10-01              0.0678  -0.0694\n",
            "2018-11-01             -0.0262   0.0179\n",
            "2018-12-01             -0.0461  -0.0918\n",
            "2019-01-01              0.0344   0.0787\n",
            "2019-02-01              0.0330   0.0297\n",
            "2019-03-01             -0.0147   0.0179\n",
            "2019-04-01              0.0601   0.0393\n",
            "2019-05-01             -0.0136  -0.0658\n",
            "2019-06-01              0.0950   0.0689\n",
            "2019-07-01             -0.0010   0.0131\n",
            "2019-08-01              0.0352  -0.0181\n",
            "2019-09-01              0.0438   0.0172\n",
            "2019-10-01              0.0035   0.0204\n",
            "2019-11-01             -0.0001   0.0340\n",
            "2019-12-01             -0.0021   0.0286\n",
            "2020-01-01             -0.0323  -0.0016\n",
            "2020-02-01             -0.0595  -0.0841\n",
            "2020-03-01              0.0552  -0.1251\n",
            "2020-04-01              0.0745   0.1268\n",
            "2020-05-01              0.0206   0.0453\n",
            "2020-06-01             -0.0114   0.0223\n"
          ],
          "name": "stdout"
        }
      ]
    },
    {
      "cell_type": "markdown",
      "metadata": {
        "id": "c6sPMnvixrVH",
        "colab_type": "text"
      },
      "source": [
        "Download the file to local"
      ]
    },
    {
      "cell_type": "code",
      "metadata": {
        "id": "1rIw1XQawGPE",
        "colab_type": "code",
        "colab": {}
      },
      "source": [
        "Ret.to_csv('Market_model.csv') \n",
        "files.download('Market_model.csv')"
      ],
      "execution_count": 0,
      "outputs": []
    },
    {
      "cell_type": "markdown",
      "metadata": {
        "id": "W84azIy6yzlj",
        "colab_type": "text"
      },
      "source": [
        "Save file to google Drive"
      ]
    },
    {
      "cell_type": "code",
      "metadata": {
        "id": "deSpefSWxqcX",
        "colab_type": "code",
        "colab": {
          "base_uri": "https://localhost:8080/",
          "height": 204
        },
        "outputId": "872012f3-608c-4d56-f756-5c929ae580dd"
      },
      "source": [
        "auth.authenticate_user()\n",
        "gauth = GoogleAuth()\n",
        "gauth.credentials = GoogleCredentials.get_application_default()\n",
        "drive = GoogleDrive(gauth)\n",
        "#You will need to clink the link below to login to your account and then paste the password on the blank.\n",
        "#The following will print out the current file you have on Drive, pick one folder you want and paste the id below\n",
        "file_list = drive.ListFile({'q': \"'root' in parents and trashed=false\"}).GetList()\n",
        "for file1 in file_list:\n",
        "  print('title: %s, id: %s' % (file1['title'], file1['id']))"
      ],
      "execution_count": 64,
      "outputs": [
        {
          "output_type": "stream",
          "text": [
            "title: Untitled0.ipynb, id: 1N_HdwT23n83iUCJNI9BeCcLA6Wo9amep\n",
            "title: Colab Notebooks, id: 1hc7tCMBD_kCQFAa-KKkSiF_DyLduSc5e\n",
            "title: minitabtoPY, id: 1e7Al_OTPirgaMsZ8VGOFESytRCo_2Pfo\n",
            "title: hw2econ.pdf, id: 1T7OY-0BWYS4NsBBAbGMUVGaNW9v3qslB\n",
            "title: Fillable New Employee Hire Form (2) copy.pdf, id: 1QM6jPyu6KqOY6cKqG1NwAY6nnMNBVfLs\n",
            "title: On-Campus Job Confirmation Letter for SSN Applicants.pdf, id: 1bRXS5hZu2-VHxA0R1zFP0r_4iKlb2w-v\n",
            "title: I94 - Official Website.pdf, id: 1ugIHVS2v7et-uKZ1T2Bb-RcAWqFUdf3z\n",
            "title: cheat.pdf, id: 10mfPZPcAYl2RKanFp6DK2bhMa-9Cbjwu\n",
            "title: midterm.pptx, id: 1LGdEyjcJhjGVntl6lT2nWk7cmM2EW5Xh\n",
            "title: IMG_7108.HEIC.pdf, id: 1jPnPgZztI203Q2xkLWwXrOrcsKBL4oee\n",
            "title: Getting started, id: 0Bx497oS87Y2Oc3RhcnRlcl9maWxlX2Rhc2hlclYw\n"
          ],
          "name": "stdout"
        }
      ]
    },
    {
      "cell_type": "markdown",
      "metadata": {
        "id": "HTBesl6u0QC9",
        "colab_type": "text"
      },
      "source": [
        "The id_ below was setup to be 'Colab Notebooks' "
      ]
    },
    {
      "cell_type": "code",
      "metadata": {
        "id": "yruaDH7EyHtW",
        "colab_type": "code",
        "colab": {}
      },
      "source": [
        "file = drive.CreateFile({'parents':[{u'id': '1hc7tCMBD_kCQFAa-KKkSiF_DyLduSc5e'}]})\n",
        "file.SetContentFile('Market_model.csv')\n",
        "file.Upload()"
      ],
      "execution_count": 0,
      "outputs": []
    }
  ]
}