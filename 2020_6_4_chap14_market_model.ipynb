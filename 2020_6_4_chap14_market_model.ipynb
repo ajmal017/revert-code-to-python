{
  "nbformat": 4,
  "nbformat_minor": 0,
  "metadata": {
    "colab": {
      "name": "2020_6_4_chap14_market_model.ipynb",
      "provenance": [],
      "collapsed_sections": [],
      "include_colab_link": true
    },
    "kernelspec": {
      "name": "python3",
      "display_name": "Python 3"
    }
  },
  "cells": [
    {
      "cell_type": "markdown",
      "metadata": {
        "id": "view-in-github",
        "colab_type": "text"
      },
      "source": [
        "<a href=\"https://colab.research.google.com/github/xiaoyi-yuxiao/revert-code-to-python/blob/master/2020_6_4_chap14_market_model.ipynb\" target=\"_parent\"><img src=\"https://colab.research.google.com/assets/colab-badge.svg\" alt=\"Open In Colab\"/></a>"
      ]
    },
    {
      "cell_type": "code",
      "metadata": {
        "id": "ojKH1zPU8Bja",
        "colab_type": "code",
        "colab": {}
      },
      "source": [
        "pip install yfinance"
      ],
      "execution_count": null,
      "outputs": []
    },
    {
      "cell_type": "code",
      "metadata": {
        "id": "UFEdHAKhWnhy",
        "colab_type": "code",
        "colab": {}
      },
      "source": [
        "pip install yahoo_fin"
      ],
      "execution_count": null,
      "outputs": []
    },
    {
      "cell_type": "code",
      "metadata": {
        "id": "iO2-RMyIW6bB",
        "colab_type": "code",
        "colab": {}
      },
      "source": [
        "pip install requests_html"
      ],
      "execution_count": null,
      "outputs": []
    },
    {
      "cell_type": "code",
      "metadata": {
        "id": "msPwaYWmg9d7",
        "colab_type": "code",
        "colab": {}
      },
      "source": [
        "pip install requests"
      ],
      "execution_count": null,
      "outputs": []
    },
    {
      "cell_type": "code",
      "metadata": {
        "id": "chI4GMJ1hFIU",
        "colab_type": "code",
        "colab": {}
      },
      "source": [
        "pip install bs4"
      ],
      "execution_count": null,
      "outputs": []
    },
    {
      "cell_type": "code",
      "metadata": {
        "id": "_5NKH4BXxi1S",
        "colab_type": "code",
        "colab": {}
      },
      "source": [
        "!pip install -U -q PyDrive"
      ],
      "execution_count": null,
      "outputs": []
    },
    {
      "cell_type": "code",
      "metadata": {
        "id": "sg3ZUJ6yqVwa",
        "colab_type": "code",
        "colab": {}
      },
      "source": [
        "import yfinance as yf\n",
        "import matplotlib.pyplot as plt\n",
        "import numpy as np\n",
        "import pandas as pd\n",
        "from scipy.stats import kurtosis, skew\n",
        "from tabulate import tabulate\n",
        "import datetime as dt#get current date\n",
        "import statsmodels.api as sm\n",
        "from statsmodels.formula.api import ols\n",
        "from statsmodels.stats.anova import anova_lm\n",
        "from yahoo_fin.stock_info import get_quote_table\n",
        "import requests\n",
        "from bs4 import BeautifulSoup\n",
        "import matplotlib.ticker as mtick\n",
        "from google.colab import files\n",
        "from pydrive.auth import GoogleAuth\n",
        "from pydrive.drive import GoogleDrive\n",
        "from google.colab import auth\n",
        "from oauth2client.client import GoogleCredentials"
      ],
      "execution_count": null,
      "outputs": []
    },
    {
      "cell_type": "code",
      "metadata": {
        "id": "LXe3dSm36orQ",
        "colab_type": "code",
        "colab": {}
      },
      "source": [
        "def Usr_input():\n",
        "  previousday = dt.date.today()-dt.timedelta(days=1)# get the date of previous day\n",
        "  Default_end = previousday.strftime(\"%Y-%m-%d\") # change the format of the default datetime \n",
        "  years_ago = dt.date.today()-dt.timedelta(days=(5 * 365) + 30)\n",
        "  Default_start = years_ago.strftime(\"%Y-%m-%d\")\n",
        "  Ticker = input('Please enter ticker(Default = JNJ)-->') or 'JNJ'\n",
        "  Start = input('Enter start date(' + 'Default = 5 Years ago, ' + Default_start + ')-->') or Default_start\n",
        "  End = input('Enter end date(Default = Yesterday, ' + Default_end + ')-->') or Default_end\n",
        "  T_interval = input('Enter date interval(1d,1wk,1mo Default = 1mo)-->') or '1mo'\n",
        "  return Ticker, Start, End, T_interval"
      ],
      "execution_count": null,
      "outputs": []
    },
    {
      "cell_type": "code",
      "metadata": {
        "id": "lZ0YZ--Q6y96",
        "colab_type": "code",
        "colab": {}
      },
      "source": [
        "def calculate_ret(stock_a,stock_M,start,end_t,T_interval):\n",
        "  Stock_price_a = yf.download(stock_a,start=start,end=end_t,interval = T_interval)['Adj Close'].dropna()\n",
        "  Ret_a = Stock_price_a.pct_change()[1:]\n",
        "  Stock_price_M = yf.download(stock_M,start=start,end=end_t,interval = T_interval)['Adj Close'].dropna()\n",
        "  Ret_M = Stock_price_M.pct_change()[1:]\n",
        "  Ret = pd.DataFrame([Ret_a,Ret_M])\n",
        "  Ret = Ret.T\n",
        "  Ret.columns = [stock_a,'SNP']\n",
        "  return Ret"
      ],
      "execution_count": null,
      "outputs": []
    },
    {
      "cell_type": "code",
      "metadata": {
        "id": "zyP4Lufcg1ZR",
        "colab_type": "code",
        "colab": {}
      },
      "source": [
        "def html_beautifulsoup(url):\n",
        "    response = requests.get(url)\n",
        "    html = response.content\n",
        "\n",
        "    #beautifulsoup html will not look like soure\n",
        "    #review beautifulsoup html to use find and findall\n",
        "    soup = BeautifulSoup(html,\"lxml\")\n",
        "    return soup\n",
        "\n",
        "#soup_html: soup html is not same as source html\n",
        "def yahoo_description(soup_html):\n",
        "    element = soup_html.find('h1',class_='D(ib) Fz(16px) Lh(18px)')\n",
        "    return element.text  "
      ],
      "execution_count": null,
      "outputs": []
    },
    {
      "cell_type": "code",
      "metadata": {
        "id": "8MiPtlupgfsR",
        "colab_type": "code",
        "colab": {
          "base_uri": "https://localhost:8080/",
          "height": 88
        },
        "outputId": "759124e7-7ede-4c01-e3d0-495972f98da1"
      },
      "source": [
        "(Ticker,macro_start,macro_end,macro_T_interval) = Usr_input()\n",
        "soup_html = html_beautifulsoup(\"https://finance.yahoo.com/quote/\"  +Ticker)\n",
        "Ticker_shortN = yahoo_description(soup_html)"
      ],
      "execution_count": null,
      "outputs": [
        {
          "output_type": "stream",
          "text": [
            "Please enter ticker(Default = JNJ)-->JPM\n",
            "Enter start date(Default = 5 Years ago, 2015-05-15)-->2015-04-01\n",
            "Enter end date(Default = Yesterday, 2020-06-11)-->2020-05-01\n",
            "Enter date interval(1d,1wk,1mo Default = 1mo)-->\n"
          ],
          "name": "stdout"
        }
      ]
    },
    {
      "cell_type": "code",
      "metadata": {
        "id": "ZQF5Y1hi8eip",
        "colab_type": "code",
        "colab": {
          "base_uri": "https://localhost:8080/",
          "height": 517
        },
        "outputId": "50e09dea-dc9c-48b1-859b-d054b668c485"
      },
      "source": [
        "ret = calculate_ret(Ticker,'^GSPC',macro_start,macro_end,macro_T_interval)\n",
        "ret_M = ret['SNP']\n",
        "ret_a = ret[Ticker]\n",
        "\n",
        "ret_Mc = sm.add_constant(ret_M)\n",
        "results = sm.OLS(ret_a,ret_Mc).fit()\n",
        "print('                                 Market Model')\n",
        "print(results.summary())"
      ],
      "execution_count": null,
      "outputs": [
        {
          "output_type": "stream",
          "text": [
            "[*********************100%***********************]  1 of 1 completed\n",
            "[*********************100%***********************]  1 of 1 completed\n",
            "                                 Market Model\n",
            "                            OLS Regression Results                            \n",
            "==============================================================================\n",
            "Dep. Variable:                    JPM   R-squared:                       0.550\n",
            "Model:                            OLS   Adj. R-squared:                  0.542\n",
            "Method:                 Least Squares   F-statistic:                     70.93\n",
            "Date:                Fri, 12 Jun 2020   Prob (F-statistic):           1.21e-11\n",
            "Time:                        15:19:36   Log-Likelihood:                 101.91\n",
            "No. Observations:                  60   AIC:                            -199.8\n",
            "Df Residuals:                      58   BIC:                            -195.6\n",
            "Df Model:                           1                                         \n",
            "Covariance Type:            nonrobust                                         \n",
            "==============================================================================\n",
            "                 coef    std err          t      P>|t|      [0.025      0.975]\n",
            "------------------------------------------------------------------------------\n",
            "const          0.0040      0.006      0.673      0.504      -0.008       0.016\n",
            "SNP            1.1613      0.138      8.422      0.000       0.885       1.437\n",
            "==============================================================================\n",
            "Omnibus:                        3.059   Durbin-Watson:                   1.818\n",
            "Prob(Omnibus):                  0.217   Jarque-Bera (JB):                2.690\n",
            "Skew:                           0.518   Prob(JB):                        0.260\n",
            "Kurtosis:                       2.946   Cond. No.                         23.7\n",
            "==============================================================================\n",
            "\n",
            "Warnings:\n",
            "[1] Standard Errors assume that the covariance matrix of the errors is correctly specified.\n"
          ],
          "name": "stdout"
        }
      ]
    },
    {
      "cell_type": "code",
      "metadata": {
        "id": "v198PGDrerUJ",
        "colab_type": "code",
        "colab": {
          "base_uri": "https://localhost:8080/",
          "height": 71
        },
        "outputId": "501fb834-65b9-4479-d10a-5d0e8a0ff570"
      },
      "source": [
        "model = ols(Ticker+' ~ SNP',ret).fit()\n",
        "anova_table = anova_lm(model)\n",
        "print(anova_table)"
      ],
      "execution_count": null,
      "outputs": [
        {
          "output_type": "stream",
          "text": [
            "              df  sum_sq  mean_sq       F  PR(>F)\n",
            "SNP       1.0000  0.1438   0.1438 70.9338  0.0000\n",
            "Residual 58.0000  0.1176   0.0020     nan     nan\n"
          ],
          "name": "stdout"
        }
      ]
    },
    {
      "cell_type": "code",
      "metadata": {
        "id": "y8rhWXKo_gH2",
        "colab_type": "code",
        "colab": {
          "base_uri": "https://localhost:8080/",
          "height": 511
        },
        "outputId": "c24d73da-d93d-4745-d29a-86a98568a86d"
      },
      "source": [
        "plt.figure(figsize=(14,7))\n",
        "plt.gca().yaxis.set_major_formatter(mtick.PercentFormatter())\n",
        "plt.gca().xaxis.set_major_formatter(mtick.PercentFormatter())\n",
        "(a,b) = results.params\n",
        "R_sq = results.rsquared\n",
        "predict = a+np.multiply(ret_M,b)\n",
        "plt.scatter(ret_M*100,predict*100)\n",
        "plt.scatter(ret_M*100,ret_a*100)\n",
        "plt.text(7, 6, 'Y={:.4f}+{:.4f}*X'.format(a,b), fontsize=12)\n",
        "plt.text(7, 4, r'$R^2$ = {:.4f}'.format(R_sq), fontsize=12)\n",
        "plt.suptitle(Ticker_shortN+' Market model',fontsize=20)\n",
        "plt.title(macro_start+' to '+macro_end,fontsize = 16)\n",
        "plt.grid(True)\n",
        "plt.xlabel('S&P 500 index',fontweight='bold')\n",
        "plt.ylabel(Ticker_shortN,fontweight='bold')"
      ],
      "execution_count": null,
      "outputs": [
        {
          "output_type": "execute_result",
          "data": {
            "text/plain": [
              "Text(0, 0.5, 'JPM - JPMorgan Chase & Co.')"
            ]
          },
          "metadata": {
            "tags": []
          },
          "execution_count": 54
        },
        {
          "output_type": "display_data",
          "data": {
            "image/png": "[encoded data removed]",
            "text/plain": [
              "<Figure size 1008x504 with 1 Axes>"
            ]
          },
          "metadata": {
            "tags": [],
            "needs_background": "light"
          }
        }
      ]
    },
    {
      "cell_type": "code",
      "metadata": {
        "id": "fHPtnvidWLXX",
        "colab_type": "code",
        "colab": {
          "base_uri": "https://localhost:8080/",
          "height": 339
        },
        "outputId": "1e914d78-b9a6-452e-c06d-271b2e350356"
      },
      "source": [
        "a=get_quote_table(Ticker , dict_result = True)\n",
        "a = pd.DataFrame(a, index=[0])\n",
        "a = a.T\n",
        "a.columns = ['Value']\n",
        "print(a)"
      ],
      "execution_count": null,
      "outputs": [
        {
          "output_type": "stream",
          "text": [
            "                                   Value\n",
            "1y Target Est                   108.9000\n",
            "52 Week Range             76.91 - 141.10\n",
            "Ask                          97.49 x 800\n",
            "Avg. Volume                27603287.0000\n",
            "Beta (5Y Monthly)                 1.1800\n",
            "Bid                          97.47 x 900\n",
            "Day's Range               97.38 - 101.13\n",
            "EPS (TTM)                         8.9000\n",
            "Earnings Date               Jul 14, 2020\n",
            "Ex-Dividend Date            Jul 02, 2020\n",
            "Forward Dividend & Yield    3.60 (3.70%)\n",
            "Market Cap                      297.754B\n",
            "Open                            100.7100\n",
            "PE Ratio (TTM)                   10.9800\n",
            "Previous Close                   97.2100\n",
            "Quote Price                      97.7199\n",
            "Volume                      9372325.0000\n"
          ],
          "name": "stdout"
        }
      ]
    },
    {
      "cell_type": "code",
      "metadata": {
        "id": "xUkFEZiju9Va",
        "colab_type": "code",
        "colab": {
          "base_uri": "https://localhost:8080/",
          "height": 1000
        },
        "outputId": "c7b5ab45-136c-42d8-fc43-f9e7693106a6"
      },
      "source": [
        "Ret = ret\n",
        "Ret.columns = [Ticker_shortN,'S&P 500']\n",
        "pd.options.display.float_format = '{:.4f}'.format\n",
        "print(Ret)"
      ],
      "execution_count": null,
      "outputs": [
        {
          "output_type": "stream",
          "text": [
            "            JPM - JPMorgan Chase & Co.  S&P 500\n",
            "Date                                           \n",
            "2015-05-01                      0.0467   0.0105\n",
            "2015-06-01                      0.0301  -0.0210\n",
            "2015-07-01                      0.0114   0.0197\n",
            "2015-08-01                     -0.0585  -0.0626\n",
            "2015-09-01                     -0.0488  -0.0264\n",
            "2015-10-01                      0.0538   0.0830\n",
            "2015-11-01                      0.0453   0.0005\n",
            "2015-12-01                     -0.0097  -0.0175\n",
            "2016-01-01                     -0.0989  -0.0507\n",
            "2016-02-01                     -0.0474  -0.0041\n",
            "2016-03-01                      0.0519   0.0660\n",
            "2016-04-01                      0.0672   0.0027\n",
            "2016-05-01                      0.0404   0.0153\n",
            "2016-06-01                     -0.0480   0.0009\n",
            "2016-07-01                      0.0294   0.0356\n",
            "2016-08-01                      0.0634  -0.0012\n",
            "2016-09-01                     -0.0135  -0.0012\n",
            "2016-10-01                      0.0401  -0.0194\n",
            "2016-11-01                      0.1659   0.0342\n",
            "2016-12-01                      0.0664   0.0182\n",
            "2017-01-01                     -0.0101   0.0179\n",
            "2017-02-01                      0.0767   0.0372\n",
            "2017-03-01                     -0.0307  -0.0004\n",
            "2017-04-01                     -0.0096   0.0091\n",
            "2017-05-01                     -0.0449   0.0116\n",
            "2017-06-01                      0.1126   0.0048\n",
            "2017-07-01                      0.0044   0.0193\n",
            "2017-08-01                     -0.0045   0.0005\n",
            "2017-09-01                      0.0508   0.0193\n",
            "2017-10-01                      0.0534   0.0222\n",
            "2017-11-01                      0.0449   0.0037\n",
            "2017-12-01                      0.0232   0.0343\n",
            "2018-01-01                      0.0816   0.0562\n",
            "2018-02-01                      0.0037  -0.0389\n",
            "2018-03-01                     -0.0479  -0.0269\n",
            "2018-04-01                     -0.0108   0.0027\n",
            "2018-05-01                     -0.0113   0.0216\n",
            "2018-06-01                     -0.0263   0.0048\n",
            "2018-07-01                      0.1032   0.0360\n",
            "2018-08-01                      0.0022   0.0303\n",
            "2018-09-01                     -0.0152   0.0043\n",
            "2018-10-01                     -0.0339  -0.0694\n",
            "2018-11-01                      0.0270   0.0179\n",
            "2018-12-01                     -0.1220  -0.0918\n",
            "2019-01-01                      0.0602   0.0787\n",
            "2019-02-01                      0.0165   0.0297\n",
            "2019-03-01                     -0.0300   0.0179\n",
            "2019-04-01                      0.1464   0.0393\n",
            "2019-05-01                     -0.0800  -0.0658\n",
            "2019-06-01                      0.0551   0.0689\n",
            "2019-07-01                      0.0376   0.0131\n",
            "2019-08-01                     -0.0462  -0.0181\n",
            "2019-09-01                      0.0713   0.0172\n",
            "2019-10-01                      0.0614   0.0204\n",
            "2019-11-01                      0.0632   0.0340\n",
            "2019-12-01                      0.0580   0.0286\n",
            "2020-01-01                     -0.0505  -0.0016\n",
            "2020-02-01                     -0.1171  -0.0841\n",
            "2020-03-01                     -0.2246  -0.1251\n",
            "2020-04-01                      0.0636   0.1268\n"
          ],
          "name": "stdout"
        }
      ]
    },
    {
      "cell_type": "markdown",
      "metadata": {
        "id": "c6sPMnvixrVH",
        "colab_type": "text"
      },
      "source": [
        "Download the file to local"
      ]
    },
    {
      "cell_type": "code",
      "metadata": {
        "id": "1rIw1XQawGPE",
        "colab_type": "code",
        "colab": {
          "base_uri": "https://localhost:8080/",
          "height": 35
        },
        "outputId": "a37791da-5ded-461b-de5b-0da5e46cd108"
      },
      "source": [
        "# save report to 'downloads' folder\n",
        "Ret.to_csv('Market_model.csv') \n",
        "files.download('Market_model.csv')\n",
        "print (\"The file was downloaded to your 'Downloads' folder.\")"
      ],
      "execution_count": null,
      "outputs": [
        {
          "output_type": "stream",
          "text": [
            "On the pc the file was downloaded to your 'Downloads' folder.\n"
          ],
          "name": "stdout"
        }
      ]
    },
    {
      "cell_type": "markdown",
      "metadata": {
        "id": "W84azIy6yzlj",
        "colab_type": "text"
      },
      "source": [
        "Save file to google Drive"
      ]
    },
    {
      "cell_type": "code",
      "metadata": {
        "id": "deSpefSWxqcX",
        "colab_type": "code",
        "colab": {
          "base_uri": "https://localhost:8080/",
          "height": 551
        },
        "outputId": "03265e42-fa55-4215-da5b-7a335a7e4033"
      },
      "source": [
        "auth.authenticate_user()\n",
        "gauth = GoogleAuth()\n",
        "gauth.credentials = GoogleCredentials.get_application_default()\n",
        "drive = GoogleDrive(gauth)\n",
        "#You will need to clink the link below to login to your account and then paste the password on the blank.\n",
        "#The following will print out the current file you have on Drive, pick one folder you want and paste the id below\n",
        "file_list = drive.ListFile({'q': \"'root' in parents and trashed=false\"}).GetList()\n",
        "for file1 in file_list:\n",
        "  print('title: %s, id: %s' % (file1['title'], file1['id']))"
      ],
      "execution_count": null,
      "outputs": [
        {
          "output_type": "error",
          "ename": "KeyboardInterrupt",
          "evalue": "ignored",
          "traceback": [
            "\u001b[0;31m---------------------------------------------------------------------------\u001b[0m",
            "\u001b[0;31mKeyboardInterrupt\u001b[0m                         Traceback (most recent call last)",
            "\u001b[0;32m/usr/local/lib/python3.6/dist-packages/ipykernel/kernelbase.py\u001b[0m in \u001b[0;36m_input_request\u001b[0;34m(self, prompt, ident, parent, password)\u001b[0m\n\u001b[1;32m    728\u001b[0m             \u001b[0;32mtry\u001b[0m\u001b[0;34m:\u001b[0m\u001b[0;34m\u001b[0m\u001b[0;34m\u001b[0m\u001b[0m\n\u001b[0;32m--> 729\u001b[0;31m                 \u001b[0mident\u001b[0m\u001b[0;34m,\u001b[0m \u001b[0mreply\u001b[0m \u001b[0;34m=\u001b[0m \u001b[0mself\u001b[0m\u001b[0;34m.\u001b[0m\u001b[0msession\u001b[0m\u001b[0;34m.\u001b[0m\u001b[0mrecv\u001b[0m\u001b[0;34m(\u001b[0m\u001b[0mself\u001b[0m\u001b[0;34m.\u001b[0m\u001b[0mstdin_socket\u001b[0m\u001b[0;34m,\u001b[0m \u001b[0;36m0\u001b[0m\u001b[0;34m)\u001b[0m\u001b[0;34m\u001b[0m\u001b[0;34m\u001b[0m\u001b[0m\n\u001b[0m\u001b[1;32m    730\u001b[0m             \u001b[0;32mexcept\u001b[0m \u001b[0mException\u001b[0m\u001b[0;34m:\u001b[0m\u001b[0;34m\u001b[0m\u001b[0;34m\u001b[0m\u001b[0m\n",
            "\u001b[0;32m/usr/local/lib/python3.6/dist-packages/jupyter_client/session.py\u001b[0m in \u001b[0;36mrecv\u001b[0;34m(self, socket, mode, content, copy)\u001b[0m\n\u001b[1;32m    802\u001b[0m         \u001b[0;32mtry\u001b[0m\u001b[0;34m:\u001b[0m\u001b[0;34m\u001b[0m\u001b[0;34m\u001b[0m\u001b[0m\n\u001b[0;32m--> 803\u001b[0;31m             \u001b[0mmsg_list\u001b[0m \u001b[0;34m=\u001b[0m \u001b[0msocket\u001b[0m\u001b[0;34m.\u001b[0m\u001b[0mrecv_multipart\u001b[0m\u001b[0;34m(\u001b[0m\u001b[0mmode\u001b[0m\u001b[0;34m,\u001b[0m \u001b[0mcopy\u001b[0m\u001b[0;34m=\u001b[0m\u001b[0mcopy\u001b[0m\u001b[0;34m)\u001b[0m\u001b[0;34m\u001b[0m\u001b[0;34m\u001b[0m\u001b[0m\n\u001b[0m\u001b[1;32m    804\u001b[0m         \u001b[0;32mexcept\u001b[0m \u001b[0mzmq\u001b[0m\u001b[0;34m.\u001b[0m\u001b[0mZMQError\u001b[0m \u001b[0;32mas\u001b[0m \u001b[0me\u001b[0m\u001b[0;34m:\u001b[0m\u001b[0;34m\u001b[0m\u001b[0;34m\u001b[0m\u001b[0m\n",
            "\u001b[0;32m/usr/local/lib/python3.6/dist-packages/zmq/sugar/socket.py\u001b[0m in \u001b[0;36mrecv_multipart\u001b[0;34m(self, flags, copy, track)\u001b[0m\n\u001b[1;32m    474\u001b[0m         \"\"\"\n\u001b[0;32m--> 475\u001b[0;31m         \u001b[0mparts\u001b[0m \u001b[0;34m=\u001b[0m \u001b[0;34m[\u001b[0m\u001b[0mself\u001b[0m\u001b[0;34m.\u001b[0m\u001b[0mrecv\u001b[0m\u001b[0;34m(\u001b[0m\u001b[0mflags\u001b[0m\u001b[0;34m,\u001b[0m \u001b[0mcopy\u001b[0m\u001b[0;34m=\u001b[0m\u001b[0mcopy\u001b[0m\u001b[0;34m,\u001b[0m \u001b[0mtrack\u001b[0m\u001b[0;34m=\u001b[0m\u001b[0mtrack\u001b[0m\u001b[0;34m)\u001b[0m\u001b[0;34m]\u001b[0m\u001b[0;34m\u001b[0m\u001b[0;34m\u001b[0m\u001b[0m\n\u001b[0m\u001b[1;32m    476\u001b[0m         \u001b[0;31m# have first part already, only loop while more to receive\u001b[0m\u001b[0;34m\u001b[0m\u001b[0;34m\u001b[0m\u001b[0;34m\u001b[0m\u001b[0m\n",
            "\u001b[0;32mzmq/backend/cython/socket.pyx\u001b[0m in \u001b[0;36mzmq.backend.cython.socket.Socket.recv\u001b[0;34m()\u001b[0m\n",
            "\u001b[0;32mzmq/backend/cython/socket.pyx\u001b[0m in \u001b[0;36mzmq.backend.cython.socket.Socket.recv\u001b[0;34m()\u001b[0m\n",
            "\u001b[0;32mzmq/backend/cython/socket.pyx\u001b[0m in \u001b[0;36mzmq.backend.cython.socket._recv_copy\u001b[0;34m()\u001b[0m\n",
            "\u001b[0;32m/usr/local/lib/python3.6/dist-packages/zmq/backend/cython/checkrc.pxd\u001b[0m in \u001b[0;36mzmq.backend.cython.checkrc._check_rc\u001b[0;34m()\u001b[0m\n",
            "\u001b[0;31mKeyboardInterrupt\u001b[0m: ",
            "\nDuring handling of the above exception, another exception occurred:\n",
            "\u001b[0;31mKeyboardInterrupt\u001b[0m                         Traceback (most recent call last)",
            "\u001b[0;32m<ipython-input-20-da7ab769f6a6>\u001b[0m in \u001b[0;36m<module>\u001b[0;34m()\u001b[0m\n\u001b[0;32m----> 1\u001b[0;31m \u001b[0mauth\u001b[0m\u001b[0;34m.\u001b[0m\u001b[0mauthenticate_user\u001b[0m\u001b[0;34m(\u001b[0m\u001b[0;34m)\u001b[0m\u001b[0;34m\u001b[0m\u001b[0;34m\u001b[0m\u001b[0m\n\u001b[0m\u001b[1;32m      2\u001b[0m \u001b[0mgauth\u001b[0m \u001b[0;34m=\u001b[0m \u001b[0mGoogleAuth\u001b[0m\u001b[0;34m(\u001b[0m\u001b[0;34m)\u001b[0m\u001b[0;34m\u001b[0m\u001b[0;34m\u001b[0m\u001b[0m\n\u001b[1;32m      3\u001b[0m \u001b[0mgauth\u001b[0m\u001b[0;34m.\u001b[0m\u001b[0mcredentials\u001b[0m \u001b[0;34m=\u001b[0m \u001b[0mGoogleCredentials\u001b[0m\u001b[0;34m.\u001b[0m\u001b[0mget_application_default\u001b[0m\u001b[0;34m(\u001b[0m\u001b[0;34m)\u001b[0m\u001b[0;34m\u001b[0m\u001b[0;34m\u001b[0m\u001b[0m\n\u001b[1;32m      4\u001b[0m \u001b[0mdrive\u001b[0m \u001b[0;34m=\u001b[0m \u001b[0mGoogleDrive\u001b[0m\u001b[0;34m(\u001b[0m\u001b[0mgauth\u001b[0m\u001b[0;34m)\u001b[0m\u001b[0;34m\u001b[0m\u001b[0;34m\u001b[0m\u001b[0m\n\u001b[1;32m      5\u001b[0m \u001b[0;31m#You will need to clink the link below to login to your account and then paste the password on the blank.\u001b[0m\u001b[0;34m\u001b[0m\u001b[0;34m\u001b[0m\u001b[0;34m\u001b[0m\u001b[0m\n",
            "\u001b[0;32m/usr/local/lib/python3.6/dist-packages/google/colab/auth.py\u001b[0m in \u001b[0;36mauthenticate_user\u001b[0;34m(clear_output)\u001b[0m\n\u001b[1;32m    145\u001b[0m     \u001b[0mcontext_manager\u001b[0m \u001b[0;34m=\u001b[0m \u001b[0m_output\u001b[0m\u001b[0;34m.\u001b[0m\u001b[0mtemporary\u001b[0m \u001b[0;32mif\u001b[0m \u001b[0mclear_output\u001b[0m \u001b[0;32melse\u001b[0m \u001b[0m_noop\u001b[0m\u001b[0;34m\u001b[0m\u001b[0;34m\u001b[0m\u001b[0m\n\u001b[1;32m    146\u001b[0m     \u001b[0;32mwith\u001b[0m \u001b[0mcontext_manager\u001b[0m\u001b[0;34m(\u001b[0m\u001b[0;34m)\u001b[0m\u001b[0;34m:\u001b[0m\u001b[0;34m\u001b[0m\u001b[0;34m\u001b[0m\u001b[0m\n\u001b[0;32m--> 147\u001b[0;31m       \u001b[0m_gcloud_login\u001b[0m\u001b[0;34m(\u001b[0m\u001b[0;34m)\u001b[0m\u001b[0;34m\u001b[0m\u001b[0;34m\u001b[0m\u001b[0m\n\u001b[0m\u001b[1;32m    148\u001b[0m     \u001b[0m_install_adc\u001b[0m\u001b[0;34m(\u001b[0m\u001b[0;34m)\u001b[0m\u001b[0;34m\u001b[0m\u001b[0;34m\u001b[0m\u001b[0m\n\u001b[1;32m    149\u001b[0m     \u001b[0mcolab_tpu_addr\u001b[0m \u001b[0;34m=\u001b[0m \u001b[0m_os\u001b[0m\u001b[0;34m.\u001b[0m\u001b[0menviron\u001b[0m\u001b[0;34m.\u001b[0m\u001b[0mget\u001b[0m\u001b[0;34m(\u001b[0m\u001b[0;34m'COLAB_TPU_ADDR'\u001b[0m\u001b[0;34m,\u001b[0m \u001b[0;34m''\u001b[0m\u001b[0;34m)\u001b[0m\u001b[0;34m\u001b[0m\u001b[0;34m\u001b[0m\u001b[0m\n",
            "\u001b[0;32m/usr/local/lib/python3.6/dist-packages/google/colab/auth.py\u001b[0m in \u001b[0;36m_gcloud_login\u001b[0;34m()\u001b[0m\n\u001b[1;32m     89\u001b[0m     \u001b[0;31m# https://github.com/jupyter/notebook/issues/3159\u001b[0m\u001b[0;34m\u001b[0m\u001b[0;34m\u001b[0m\u001b[0;34m\u001b[0m\u001b[0m\n\u001b[1;32m     90\u001b[0m     \u001b[0mprompt\u001b[0m \u001b[0;34m=\u001b[0m \u001b[0mprompt\u001b[0m\u001b[0;34m.\u001b[0m\u001b[0mrstrip\u001b[0m\u001b[0;34m(\u001b[0m\u001b[0;34m)\u001b[0m\u001b[0;34m\u001b[0m\u001b[0;34m\u001b[0m\u001b[0m\n\u001b[0;32m---> 91\u001b[0;31m     \u001b[0mcode\u001b[0m \u001b[0;34m=\u001b[0m \u001b[0m_getpass\u001b[0m\u001b[0;34m.\u001b[0m\u001b[0mgetpass\u001b[0m\u001b[0;34m(\u001b[0m\u001b[0mprompt\u001b[0m \u001b[0;34m+\u001b[0m \u001b[0;34m' '\u001b[0m\u001b[0;34m)\u001b[0m\u001b[0;34m\u001b[0m\u001b[0;34m\u001b[0m\u001b[0m\n\u001b[0m\u001b[1;32m     92\u001b[0m     \u001b[0mgcloud_process\u001b[0m\u001b[0;34m.\u001b[0m\u001b[0mcommunicate\u001b[0m\u001b[0;34m(\u001b[0m\u001b[0mcode\u001b[0m\u001b[0;34m.\u001b[0m\u001b[0mstrip\u001b[0m\u001b[0;34m(\u001b[0m\u001b[0;34m)\u001b[0m\u001b[0;34m)\u001b[0m\u001b[0;34m\u001b[0m\u001b[0;34m\u001b[0m\u001b[0m\n\u001b[1;32m     93\u001b[0m   \u001b[0;32mfinally\u001b[0m\u001b[0;34m:\u001b[0m\u001b[0;34m\u001b[0m\u001b[0;34m\u001b[0m\u001b[0m\n",
            "\u001b[0;32m/usr/local/lib/python3.6/dist-packages/ipykernel/kernelbase.py\u001b[0m in \u001b[0;36mgetpass\u001b[0;34m(self, prompt, stream)\u001b[0m\n\u001b[1;32m    685\u001b[0m             \u001b[0mself\u001b[0m\u001b[0;34m.\u001b[0m\u001b[0m_parent_ident\u001b[0m\u001b[0;34m,\u001b[0m\u001b[0;34m\u001b[0m\u001b[0;34m\u001b[0m\u001b[0m\n\u001b[1;32m    686\u001b[0m             \u001b[0mself\u001b[0m\u001b[0;34m.\u001b[0m\u001b[0m_parent_header\u001b[0m\u001b[0;34m,\u001b[0m\u001b[0;34m\u001b[0m\u001b[0;34m\u001b[0m\u001b[0m\n\u001b[0;32m--> 687\u001b[0;31m             \u001b[0mpassword\u001b[0m\u001b[0;34m=\u001b[0m\u001b[0;32mTrue\u001b[0m\u001b[0;34m,\u001b[0m\u001b[0;34m\u001b[0m\u001b[0;34m\u001b[0m\u001b[0m\n\u001b[0m\u001b[1;32m    688\u001b[0m         )\n\u001b[1;32m    689\u001b[0m \u001b[0;34m\u001b[0m\u001b[0m\n",
            "\u001b[0;32m/usr/local/lib/python3.6/dist-packages/ipykernel/kernelbase.py\u001b[0m in \u001b[0;36m_input_request\u001b[0;34m(self, prompt, ident, parent, password)\u001b[0m\n\u001b[1;32m    732\u001b[0m             \u001b[0;32mexcept\u001b[0m \u001b[0mKeyboardInterrupt\u001b[0m\u001b[0;34m:\u001b[0m\u001b[0;34m\u001b[0m\u001b[0;34m\u001b[0m\u001b[0m\n\u001b[1;32m    733\u001b[0m                 \u001b[0;31m# re-raise KeyboardInterrupt, to truncate traceback\u001b[0m\u001b[0;34m\u001b[0m\u001b[0;34m\u001b[0m\u001b[0;34m\u001b[0m\u001b[0m\n\u001b[0;32m--> 734\u001b[0;31m                 \u001b[0;32mraise\u001b[0m \u001b[0mKeyboardInterrupt\u001b[0m\u001b[0;34m\u001b[0m\u001b[0;34m\u001b[0m\u001b[0m\n\u001b[0m\u001b[1;32m    735\u001b[0m             \u001b[0;32melse\u001b[0m\u001b[0;34m:\u001b[0m\u001b[0;34m\u001b[0m\u001b[0;34m\u001b[0m\u001b[0m\n\u001b[1;32m    736\u001b[0m                 \u001b[0;32mbreak\u001b[0m\u001b[0;34m\u001b[0m\u001b[0;34m\u001b[0m\u001b[0m\n",
            "\u001b[0;31mKeyboardInterrupt\u001b[0m: "
          ]
        }
      ]
    },
    {
      "cell_type": "markdown",
      "metadata": {
        "id": "HTBesl6u0QC9",
        "colab_type": "text"
      },
      "source": [
        "The id_ below was setup to be 'Colab Notebooks' "
      ]
    },
    {
      "cell_type": "code",
      "metadata": {
        "id": "yruaDH7EyHtW",
        "colab_type": "code",
        "colab": {}
      },
      "source": [
        "file = drive.CreateFile({'parents':[{u'id': '1hc7tCMBD_kCQFAa-KKkSiF_DyLduSc5e'}]})\n",
        "file.SetContentFile('Market_model.csv')\n",
        "file.Upload()"
      ],
      "execution_count": null,
      "outputs": []
    }
  ]
}