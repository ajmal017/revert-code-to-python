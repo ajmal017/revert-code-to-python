{
  "nbformat": 4,
  "nbformat_minor": 0,
  "metadata": {
    "colab": {
      "name": "Untitled0.ipynb",
      "provenance": [],
      "collapsed_sections": [],
      "authorship_tag": "ABX9TyNnvGk/CoyNJJDoAJL1ZT5l",
      "include_colab_link": true
    },
    "kernelspec": {
      "name": "python3",
      "display_name": "Python 3"
    }
  },
  "cells": [
    {
      "cell_type": "markdown",
      "metadata": {
        "id": "view-in-github",
        "colab_type": "text"
      },
      "source": [
        "<a href=\"https://colab.research.google.com/github/xiaoyi-yuxiao/revert-code-to-python/blob/master/Untitled0.ipynb\" target=\"_parent\"><img src=\"https://colab.research.google.com/assets/colab-badge.svg\" alt=\"Open In Colab\"/></a>"
      ]
    },
    {
      "cell_type": "code",
      "metadata": {
        "id": "BeUQnsXS6WqI",
        "colab_type": "code",
        "colab": {}
      },
      "source": [
        "try:\n",
        "    # For Python 3.0 and later\n",
        "    from urllib.request import urlopen\n",
        "except ImportError:\n",
        "    # Fall back to Python 2's urllib2\n",
        "    from urllib2 import urlopen\n",
        "\n",
        "import json\n",
        "import pandas as pd\n",
        "import matplotlib.pyplot as plt\n",
        "import numpy as np\n",
        "from scipy import stats\n",
        "from tabulate import tabulate\n",
        "import statsmodels.api as sm\n",
        "from statsmodels.sandbox.regression.predstd import wls_prediction_std"
      ],
      "execution_count": null,
      "outputs": []
    },
    {
      "cell_type": "code",
      "metadata": {
        "id": "drk2vxjo8PNw",
        "colab_type": "code",
        "colab": {}
      },
      "source": [
        "def usr_input():\n",
        "  ticker_1 = input('Enter 1st ticker:(defalut AAPL) ') or 'AAPL'\n",
        "  ticker_2 = input('Enter 2nd ticker:(defalut MSFT) ') or 'MSFT'\n",
        "  return ticker_1,ticker_2"
      ],
      "execution_count": null,
      "outputs": []
    },
    {
      "cell_type": "code",
      "metadata": {
        "id": "boDyPxzy8RPw",
        "colab_type": "code",
        "colab": {}
      },
      "source": [
        "def get_jsonparsed_data(url):\n",
        "\n",
        "    response = urlopen(url)\n",
        "    data = response.read().decode(\"utf-8\")\n",
        "    return json.loads(data)"
      ],
      "execution_count": null,
      "outputs": []
    },
    {
      "cell_type": "code",
      "metadata": {
        "id": "R5J6KywR8S3r",
        "colab_type": "code",
        "colab": {}
      },
      "source": [
        "def get_dictdata(ticker,alpha,beta):\n",
        "\n",
        "  url = ('https://financialmodelingprep.com/api/v3/income-statement/'+ticker+'?apikey=6f687ccb520121389797f851cf764bf7')\n",
        "  Data = get_jsonparsed_data(url)\n",
        "  eps = []\n",
        "  date = []\n",
        "  for element in range(len(Data)):\n",
        "    eps.append(Data[element]['eps'])\n",
        "    date.append(Data[element]['date'])\n",
        "\n",
        "  ##find Y to calculate first T\n",
        "  Y = eps[0:5]\n",
        "  ##make X\n",
        "  X = [1,2,3,4,5]\n",
        "  X = sm.add_constant(X)\n",
        "  ## do ols\n",
        "  model = sm.OLS(Y, X)\n",
        "  results = model.fit()\n",
        "  _,T1 = results.params\n",
        "\n",
        "  T = []\n",
        "  S = []\n",
        "\n",
        "  T.append(T1)\n",
        "  S.append(eps[0])\n",
        "\n",
        "  for ele in range(1,len(eps)):\n",
        "   s = alpha*eps[ele]+(1-alpha)*(S[ele-1]+T[ele-1])\n",
        "   t = beta*(s-S[ele-1])+(1-beta)*T[ele-1]\n",
        "   T.append(t)\n",
        "   S.append(s)\n",
        "\n",
        "\n",
        "  dictdata = {ticker+' Date':date,ticker+' EPS':eps,ticker+' S':S,ticker+' T':T}\n",
        "\n",
        "  return dictdata"
      ],
      "execution_count": null,
      "outputs": []
    },
    {
      "cell_type": "code",
      "metadata": {
        "id": "FsXXh-bh-RWz",
        "colab_type": "code",
        "colab": {}
      },
      "source": [
        "test = get_dictdata('AAPL',0.3,0.2)\n",
        "framedata = pd.DataFrame(test)"
      ],
      "execution_count": null,
      "outputs": []
    },
    {
      "cell_type": "code",
      "metadata": {
        "id": "9-HLVpsoCj9K",
        "colab_type": "code",
        "colab": {
          "base_uri": "https://localhost:8080/",
          "height": 357
        },
        "outputId": "d962fdde-fb7a-448a-c35f-7ef55528a4e0"
      },
      "source": [
        "print(framedata)"
      ],
      "execution_count": null,
      "outputs": [
        {
          "output_type": "stream",
          "text": [
            "     AAPL Date  AAPL EPS     AAPL S    AAPL T\n",
            "0   2019-09-28     11.97  11.970000 -0.904000\n",
            "1   2018-09-29     12.01  11.349200 -0.847360\n",
            "2   2017-09-30      9.27  10.132288 -0.921270\n",
            "3   2016-09-24      8.35   8.952712 -0.972931\n",
            "4   2015-09-26      9.28   8.369847 -0.894918\n",
            "5   2014-09-27      6.49   7.179450 -0.954014\n",
            "6   2013-09-28     40.03  16.366805  1.074260\n",
            "7   2012-09-29     44.64  25.600745  2.706196\n",
            "8   2011-09-24     28.05  28.229859  2.690779\n",
            "9   2010-09-25     15.41  26.267447  1.760141\n",
            "10  2009-09-26      6.39  21.536312  0.461886\n",
            "11  2008-09-27      5.48  17.042738 -0.529206\n",
            "12  2007-09-29      4.04  12.771473 -1.277618\n",
            "13  2006-09-30      1.65   8.540698 -1.868249\n",
            "14  2005-09-24      1.65   5.165714 -2.169596\n",
            "15  2004-09-25      0.74   2.319283 -2.304963\n",
            "16  2003-09-27      0.19   0.067024 -2.294422\n",
            "17  2002-09-28      0.18  -1.505179 -2.149978\n",
            "18  2001-09-29     -0.11  -2.591610 -1.937269\n"
          ],
          "name": "stdout"
        }
      ]
    },
    {
      "cell_type": "code",
      "metadata": {
        "id": "7U7hduhgClod",
        "colab_type": "code",
        "colab": {}
      },
      "source": [
        ""
      ],
      "execution_count": null,
      "outputs": []
    }
  ]
}