{
  "nbformat": 4,
  "nbformat_minor": 0,
  "metadata": {
    "colab": {
      "name": "2020_6_2_chap7_QQplot.ipynb",
      "provenance": [],
      "collapsed_sections": [],
      "include_colab_link": true
    },
    "kernelspec": {
      "name": "python3",
      "display_name": "Python 3"
    }
  },
  "cells": [
    {
      "cell_type": "markdown",
      "metadata": {
        "id": "view-in-github",
        "colab_type": "text"
      },
      "source": [
        "<a href=\"https://colab.research.google.com/github/xiaoyi-yuxiao/revert-code-to-python/blob/master/2020_6_2_chap7_QQplot.ipynb\" target=\"_parent\"><img src=\"https://colab.research.google.com/assets/colab-badge.svg\" alt=\"Open In Colab\"/></a>"
      ]
    },
    {
      "cell_type": "code",
      "metadata": {
        "id": "uOi0DkyBbKCG",
        "colab_type": "code",
        "colab": {}
      },
      "source": [
        "pip install yfinance"
      ],
      "execution_count": 0,
      "outputs": []
    },
    {
      "cell_type": "code",
      "metadata": {
        "id": "2WIJjowHAJeE",
        "colab_type": "code",
        "colab": {}
      },
      "source": [
        "pip install requests"
      ],
      "execution_count": 0,
      "outputs": []
    },
    {
      "cell_type": "code",
      "metadata": {
        "id": "4izzU4wXAOh4",
        "colab_type": "code",
        "colab": {}
      },
      "source": [
        "pip install bs4"
      ],
      "execution_count": 0,
      "outputs": []
    },
    {
      "cell_type": "code",
      "metadata": {
        "id": "-Ws1OLObVqud",
        "colab_type": "code",
        "colab": {}
      },
      "source": [
        "!pip install -U -q PyDrive"
      ],
      "execution_count": 0,
      "outputs": []
    },
    {
      "cell_type": "code",
      "metadata": {
        "id": "psD7rUyYa7FI",
        "colab_type": "code",
        "colab": {}
      },
      "source": [
        "import yfinance as yf\n",
        "import matplotlib.pyplot as plt\n",
        "import numpy as np\n",
        "import datetime as dt#get current date\n",
        "import pandas as pd\n",
        "from scipy import stats\n",
        "import requests\n",
        "from bs4 import BeautifulSoup\n",
        "from google.colab import files"
      ],
      "execution_count": 0,
      "outputs": []
    },
    {
      "cell_type": "code",
      "metadata": {
        "id": "-cz7iTCiEmxS",
        "colab_type": "code",
        "colab": {}
      },
      "source": [
        "def html_beautifulsoup(url):\n",
        "    response = requests.get(url)\n",
        "    html = response.content\n",
        "\n",
        "    #beautifulsoup html will not look like soure\n",
        "    #review beautifulsoup html to use find and findall\n",
        "    soup = BeautifulSoup(html,\"lxml\")\n",
        "    return soup\n",
        "\n",
        "#soup_html: soup html is not same as source html\n",
        "def yahoo_description(soup_html):\n",
        "    element = soup_html.find('h1',class_='D(ib) Fz(16px) Lh(18px)')\n",
        "    return element.text  "
      ],
      "execution_count": 0,
      "outputs": []
    },
    {
      "cell_type": "code",
      "metadata": {
        "id": "gILZJMNGc4C2",
        "colab_type": "code",
        "colab": {}
      },
      "source": [
        "def stock_return(Stock_Name, Start_T, End_T, T_Interval):\n",
        "  Stock_price = yf.download(Stock_Name,start=Start_T,End=End_T,interval = T_Interval)['Adj Close'].dropna()\n",
        "  Ret = Stock_price.pct_change()[1:].dropna()\n",
        "  info = Stock_Name\n",
        "  Ret = Ret.sort_values()\n",
        "  stdRet = (Ret-np.mean(Ret))/np.std(Ret)\n",
        "  ##get z-score\n",
        "  zscore = stats.zscore(list(range(1,len(Ret)+1)))\n",
        "  cdf = stats.norm.cdf(zscore)\n",
        "  a=stdRet.to_list()\n",
        "  stderr = sum(pow(a-zscore,2))\n",
        "  return stdRet,info, zscore,Ret,cdf,stderr"
      ],
      "execution_count": 0,
      "outputs": []
    },
    {
      "cell_type": "code",
      "metadata": {
        "id": "1BUaHQVkbGaa",
        "colab_type": "code",
        "outputId": "2194da92-7df2-4c0c-fdfb-af4973e5dffd",
        "colab": {
          "base_uri": "https://localhost:8080/",
          "height": 790
        }
      },
      "source": [
        "previousday = dt.date.today()-dt.timedelta(days=1)# get the date of previous day\n",
        "Default_end = previousday.strftime(\"%Y-%m-%d\") # change the format of the default datetime \n",
        "years_ago = dt.date.today()-dt.timedelta(days=1852)\n",
        "Default_start = years_ago.strftime(\"%Y-%m-%d\")\n",
        "\n",
        "# request user input\n",
        "Ticker = input('Please enter ticker(Default = JNJ)-->') or 'JNJ'\n",
        "Start = input('Enter start date(' + 'Default = 5 Years ago, ' + Default_start + ')-->') or Default_start\n",
        "End = input('Enter end date(Default = Yesterday, ' + Default_end + ')-->') or Default_end\n",
        "T_interval = input('Enter date interval(1d,1wk,1mo Default = 1mo)-->') or '1mo'\n",
        "\n",
        "soup_html = html_beautifulsoup(\"https://finance.yahoo.com/quote/\"  + Ticker)\n",
        "\n",
        "stdRet,info,zscore,Ret,cdf,stderr = stock_return(Ticker,Start,End,T_interval)\n",
        "\n",
        "plt.figure(figsize=(20,10))\n",
        "plt.style.use('seaborn-whitegrid')#set the background to be grid\n",
        "plt.minorticks_on()\n",
        "plt.tick_params(which='minor', length=5, width=2, direction='out')\n",
        "plt.tick_params(which='major', length=10, width=2, direction='inout')\n",
        "plt.plot(zscore,zscore,'o')\n",
        "plt.plot(zscore,stdRet,'o')\n",
        "plt.text(1,2,'stderr = {:.4f}'.format(stderr),fontsize = 15)\n",
        "plt.legend(['z','standardized x'],prop={'size': 15})\n",
        "plt.suptitle('   QQ plot for '+yahoo_description(soup_html),fontsize = 24)\n",
        "plt.xlabel('zscore',fontsize = 15)\n",
        "plt.ylabel('standardized x',fontsize = 15)\n",
        "\n",
        "plt.title(Start+' to '+End,fontsize = 16)\n",
        "stdRet = pd.DataFrame(stdRet.T)\n",
        "\n",
        "print(\"\")\n",
        "\n"
      ],
      "execution_count": 0,
      "outputs": [
        {
          "output_type": "stream",
          "text": [
            "Please enter ticker(Default = JNJ)-->ibm\n",
            "Enter start date(Default = 5 Years ago, 2015-05-18)-->\n",
            "Enter end date(Default = Yesterday, 2020-06-11)-->\n",
            "Enter date interval(1d,1wk,1mo Default = 1mo)-->\n",
            "[*********************100%***********************]  1 of 1 completed\n",
            "\n"
          ],
          "name": "stdout"
        },
        {
          "output_type": "display_data",
          "data": {
            "image/png": "[encoded data removed]",
            "text/plain": [
              "<Figure size 1440x720 with 1 Axes>"
            ]
          },
          "metadata": {
            "tags": []
          }
        }
      ]
    },
    {
      "cell_type": "code",
      "metadata": {
        "id": "HPg_9NDShFjU",
        "colab_type": "code",
        "outputId": "4a8face9-b950-4af3-fc69-48d0a8f37b91",
        "colab": {
          "base_uri": "https://localhost:8080/",
          "height": 1000
        }
      },
      "source": [
        "pd.set_option('display.max_rows', None)\n",
        "pd.options.display.float_format = '{:.4f}'.format\n",
        "zscore = stats.zscore(list(range(1,len(Ret)+1)))\n",
        "zscore = pd.DataFrame(zscore)\n",
        "zscore = zscore.set_index(Ret.index)\n",
        "cdf = pd.DataFrame(cdf)\n",
        "cdf = cdf.set_index(Ret.index)\n",
        "chart = pd.concat([Ret,stdRet,cdf,zscore],axis=1)\n",
        "chart.columns = ['return','standardized x','cdf','z']\n",
        "print(chart)\n"
      ],
      "execution_count": 0,
      "outputs": [
        {
          "output_type": "stream",
          "text": [
            "            return  standardized x    cdf       z\n",
            "Date                                             \n",
            "2018-10-01 -0.2366         -3.3906 0.0442 -1.7039\n",
            "2020-03-01 -0.1388         -1.9960 0.0498 -1.6471\n",
            "2019-05-01 -0.0947         -1.3674 0.0559 -1.5903\n",
            "2020-02-01 -0.0945         -1.3647 0.0626 -1.5335\n",
            "2016-01-01 -0.0932         -1.3468 0.0699 -1.4767\n",
            "2015-08-01 -0.0870         -1.2587 0.0778 -1.4199\n",
            "2019-08-01 -0.0857         -1.2401 0.0864 -1.3631\n",
            "2019-10-01 -0.0804         -1.1638 0.0957 -1.3063\n",
            "2017-04-01 -0.0795         -1.1517 0.1057 -1.2495\n",
            "2018-12-01 -0.0736         -1.0678 0.1165 -1.1927\n",
            "2017-07-01 -0.0595         -0.8668 0.1280 -1.1359\n",
            "2018-04-01 -0.0552         -0.8049 0.1403 -1.0791\n",
            "2018-02-01 -0.0481         -0.7033 0.1533 -1.0223\n",
            "2017-05-01 -0.0478         -0.6992 0.1671 -0.9655\n",
            "2020-06-01 -0.0425         -0.6237 0.1817 -0.9087\n",
            "2016-04-01 -0.0364         -0.5366 0.1971 -0.8519\n",
            "2015-10-01 -0.0337         -0.4989 0.2133 -0.7951\n",
            "2016-10-01 -0.0325         -0.4811 0.2302 -0.7384\n",
            "2017-11-01 -0.0321         -0.4751 0.2478 -0.6816\n",
            "2018-05-01 -0.0252         -0.3770 0.2661 -0.6248\n",
            "2017-03-01 -0.0239         -0.3592 0.2850 -0.5680\n",
            "2015-09-01 -0.0116         -0.1835 0.3046 -0.5112\n",
            "2017-08-01 -0.0113         -0.1797 0.3248 -0.4544\n",
            "2016-08-01 -0.0108         -0.1725 0.3455 -0.3976\n",
            "2019-04-01 -0.0059         -0.1019 0.3666 -0.3408\n",
            "2018-03-01 -0.0057         -0.0994 0.3882 -0.2840\n",
            "2020-05-01 -0.0053         -0.0930 0.4101 -0.2272\n",
            "2015-11-01 -0.0047         -0.0852 0.4324 -0.1704\n",
            "2015-07-01 -0.0041         -0.0768 0.4548 -0.1136\n",
            "2015-12-01 -0.0037         -0.0701 0.4774 -0.0568\n",
            "2018-06-01 -0.0004         -0.0241 0.5000  0.0000\n",
            "2019-11-01  0.0054          0.0586 0.5226  0.0568\n",
            "2016-06-01  0.0063          0.0723 0.5452  0.1136\n",
            "2016-09-01  0.0084          0.1023 0.5676  0.1704\n",
            "2019-12-01  0.0087          0.1063 0.5899  0.2272\n",
            "2018-08-01  0.0107          0.1343 0.6118  0.2840\n",
            "2017-06-01  0.0177          0.2343 0.6334  0.3408\n",
            "2017-09-01  0.0250          0.3389 0.6545  0.3976\n",
            "2019-02-01  0.0276          0.3753 0.6752  0.4544\n",
            "2020-06-12  0.0279          0.3793 0.6954  0.5112\n",
            "2017-02-01  0.0304          0.4147 0.7150  0.5680\n",
            "2016-12-01  0.0325          0.4454 0.7339  0.6248\n",
            "2019-03-01  0.0334          0.4580 0.7522  0.6816\n",
            "2018-07-01  0.0374          0.5155 0.7698  0.7384\n",
            "2017-12-01  0.0391          0.5395 0.7867  0.7951\n",
            "2018-09-01  0.0434          0.6011 0.8029  0.8519\n",
            "2016-02-01  0.0500          0.6946 0.8183  0.9087\n",
            "2017-01-01  0.0514          0.7143 0.8329  0.9655\n",
            "2016-05-01  0.0534          0.7437 0.8467  1.0223\n",
            "2016-11-01  0.0555          0.7729 0.8597  1.0791\n",
            "2016-07-01  0.0582          0.8120 0.8720  1.1359\n",
            "2017-10-01  0.0619          0.8641 0.8835  1.1927\n",
            "2018-01-01  0.0670          0.9369 0.8943  1.2495\n",
            "2020-01-01  0.0723          1.0122 0.9043  1.3063\n",
            "2019-07-01  0.0750          1.0506 0.9136  1.3631\n",
            "2018-11-01  0.0766          1.0734 0.9222  1.4199\n",
            "2019-09-01  0.0856          1.2021 0.9301  1.4767\n",
            "2019-06-01  0.0988          1.3902 0.9374  1.5335\n",
            "2020-04-01  0.1319          1.8616 0.9441  1.5903\n",
            "2016-03-01  0.1676          2.3713 0.9502  1.6471\n",
            "2019-01-01  0.1825          2.5837 0.9558  1.7039\n"
          ],
          "name": "stdout"
        }
      ]
    },
    {
      "cell_type": "code",
      "metadata": {
        "id": "uBvkBFLLqca4",
        "colab_type": "code",
        "outputId": "cbf85dff-2631-4e24-9d56-72099f061cc9",
        "colab": {
          "base_uri": "https://localhost:8080/",
          "height": 35
        }
      },
      "source": [
        "#get dataset for for chart\n",
        "chart.to_csv('QQplot.csv') \n",
        "files.download('QQplot.csv')\n",
        "print (\"On the pc the file was downloaded to your 'Downloads' folder.\")"
      ],
      "execution_count": 0,
      "outputs": [
        {
          "output_type": "stream",
          "text": [
            "On the pc the file was downloaded to your 'Downloads' folder.\n"
          ],
          "name": "stdout"
        }
      ]
    }
  ]
}