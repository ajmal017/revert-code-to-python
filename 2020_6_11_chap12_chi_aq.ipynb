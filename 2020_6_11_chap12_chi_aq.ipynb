{
  "nbformat": 4,
  "nbformat_minor": 0,
  "metadata": {
    "colab": {
      "name": "2020_6_11_chap12_chi_aq.ipynb",
      "provenance": [],
      "collapsed_sections": [],
      "include_colab_link": true
    },
    "kernelspec": {
      "name": "python3",
      "display_name": "Python 3"
    }
  },
  "cells": [
    {
      "cell_type": "markdown",
      "metadata": {
        "id": "view-in-github",
        "colab_type": "text"
      },
      "source": [
        "<a href=\"https://colab.research.google.com/github/xiaoyi-yuxiao/revert-code-to-python/blob/master/2020_6_11_chap12_chi_aq.ipynb\" target=\"_parent\"><img src=\"https://colab.research.google.com/assets/colab-badge.svg\" alt=\"Open In Colab\"/></a>"
      ]
    },
    {
      "cell_type": "code",
      "metadata": {
        "id": "U6W1BqXTye2T",
        "colab_type": "code",
        "colab": {}
      },
      "source": [
        "#First ask usr for input of a stock ticker\n",
        "#calculate rate of return\n",
        "#plot the histogram with seperate bins and find the bin value and the count\n",
        "#print the estimated mean and std\n",
        "#ask usr to input a hypothesis test\n",
        "#print out the table 12.23 and 12.24"
      ],
      "execution_count": null,
      "outputs": []
    },
    {
      "cell_type": "code",
      "metadata": {
        "id": "ciOidaLQ1vmS",
        "colab_type": "code",
        "colab": {
          "base_uri": "https://localhost:8080/",
          "height": 1000
        },
        "outputId": "252650f6-bc93-4659-8dee-1cf6292d501e"
      },
      "source": [
        "pip install requests_html"
      ],
      "execution_count": null,
      "outputs": [
        {
          "output_type": "stream",
          "text": [
            "Collecting requests_html\n",
            "  Downloading https://files.pythonhosted.org/packages/24/bc/a4380f09bab3a776182578ce6b2771e57259d0d4dbce178205779abdc347/requests_html-0.10.0-py3-none-any.whl\n",
            "Collecting fake-useragent\n",
            "  Downloading https://files.pythonhosted.org/packages/d1/79/af647635d6968e2deb57a208d309f6069d31cb138066d7e821e575112a80/fake-useragent-0.1.11.tar.gz\n",
            "Collecting pyppeteer>=0.0.14\n",
            "\u001b[?25l  Downloading https://files.pythonhosted.org/packages/5d/4b/3c2aabdd1b91fa52aa9de6cde33b488b0592b4d48efb0ad9efbf71c49f5b/pyppeteer-0.2.2-py3-none-any.whl (145kB)\n",
            "\u001b[K     |████████████████████████████████| 153kB 4.0MB/s \n",
            "\u001b[?25hRequirement already satisfied: requests in /usr/local/lib/python3.6/dist-packages (from requests_html) (2.23.0)\n",
            "Collecting w3lib\n",
            "  Downloading https://files.pythonhosted.org/packages/a3/59/b6b14521090e7f42669cafdb84b0ab89301a42f1f1a82fcf5856661ea3a7/w3lib-1.22.0-py2.py3-none-any.whl\n",
            "Collecting pyquery\n",
            "  Downloading https://files.pythonhosted.org/packages/78/43/95d42e386c61cb639d1a0b94f0c0b9f0b7d6b981ad3c043a836c8b5bc68b/pyquery-1.4.1-py2.py3-none-any.whl\n",
            "Collecting parse\n",
            "  Downloading https://files.pythonhosted.org/packages/f4/65/220bb4075fddb09d5b3ea2c1c1fa66c1c72be9361ec187aab50fa161e576/parse-1.15.0.tar.gz\n",
            "Requirement already satisfied: bs4 in /usr/local/lib/python3.6/dist-packages (from requests_html) (0.0.1)\n",
            "Collecting websockets<9.0,>=8.1\n",
            "\u001b[?25l  Downloading https://files.pythonhosted.org/packages/bb/d9/856af84843912e2853b1b6e898ac8b802989fcf9ecf8e8445a1da263bf3b/websockets-8.1-cp36-cp36m-manylinux2010_x86_64.whl (78kB)\n",
            "\u001b[K     |████████████████████████████████| 81kB 5.8MB/s \n",
            "\u001b[?25hCollecting pyee<8.0.0,>=7.0.1\n",
            "  Downloading https://files.pythonhosted.org/packages/f6/28/1cedd44c27907f1507a28ff2d36fc6cdb981c9deff2fa288bc48a700c7c9/pyee-7.0.2-py2.py3-none-any.whl\n",
            "Collecting tqdm<5.0.0,>=4.42.1\n",
            "\u001b[?25l  Downloading https://files.pythonhosted.org/packages/f3/76/4697ce203a3d42b2ead61127b35e5fcc26bba9a35c03b32a2bd342a4c869/tqdm-4.46.1-py2.py3-none-any.whl (63kB)\n",
            "\u001b[K     |████████████████████████████████| 71kB 5.3MB/s \n",
            "\u001b[?25hCollecting appdirs<2.0.0,>=1.4.3\n",
            "  Downloading https://files.pythonhosted.org/packages/3b/00/2344469e2084fb287c2e0b57b72910309874c3245463acd6cf5e3db69324/appdirs-1.4.4-py2.py3-none-any.whl\n",
            "Collecting urllib3<2.0.0,>=1.25.8\n",
            "\u001b[?25l  Downloading https://files.pythonhosted.org/packages/e1/e5/df302e8017440f111c11cc41a6b432838672f5a70aa29227bf58149dc72f/urllib3-1.25.9-py2.py3-none-any.whl (126kB)\n",
            "\u001b[K     |████████████████████████████████| 133kB 8.4MB/s \n",
            "\u001b[?25hRequirement already satisfied: idna<3,>=2.5 in /usr/local/lib/python3.6/dist-packages (from requests->requests_html) (2.9)\n",
            "Requirement already satisfied: certifi>=2017.4.17 in /usr/local/lib/python3.6/dist-packages (from requests->requests_html) (2020.4.5.2)\n",
            "Requirement already satisfied: chardet<4,>=3.0.2 in /usr/local/lib/python3.6/dist-packages (from requests->requests_html) (3.0.4)\n",
            "Requirement already satisfied: six>=1.4.1 in /usr/local/lib/python3.6/dist-packages (from w3lib->requests_html) (1.12.0)\n",
            "Requirement already satisfied: lxml>=2.1 in /usr/local/lib/python3.6/dist-packages (from pyquery->requests_html) (4.2.6)\n",
            "Collecting cssselect>0.7.9\n",
            "  Downloading https://files.pythonhosted.org/packages/3b/d4/3b5c17f00cce85b9a1e6f91096e1cc8e8ede2e1be8e96b87ce1ed09e92c5/cssselect-1.1.0-py2.py3-none-any.whl\n",
            "Requirement already satisfied: beautifulsoup4 in /usr/local/lib/python3.6/dist-packages (from bs4->requests_html) (4.6.3)\n",
            "Building wheels for collected packages: fake-useragent, parse\n",
            "  Building wheel for fake-useragent (setup.py) ... \u001b[?25l\u001b[?25hdone\n",
            "  Created wheel for fake-useragent: filename=fake_useragent-0.1.11-cp36-none-any.whl size=13484 sha256=07cdcb6a99c47432c382dd1cea49c76603bb4f82e8f028d182f0fced997fb32f\n",
            "  Stored in directory: /root/.cache/pip/wheels/5e/63/09/d1dc15179f175357d3f5c00cbffbac37f9e8690d80545143ff\n",
            "  Building wheel for parse (setup.py) ... \u001b[?25l\u001b[?25hdone\n",
            "  Created wheel for parse: filename=parse-1.15.0-cp36-none-any.whl size=23710 sha256=b399b0fed5366af7c75617d0169e7395470f2fbb771e26642d8d4c140e14e923\n",
            "  Stored in directory: /root/.cache/pip/wheels/07/ee/c8/eced0759f09fc635398ab1b8e89c38549b28e5db7fd4a53ba5\n",
            "Successfully built fake-useragent parse\n",
            "\u001b[31mERROR: kaggle 1.5.6 has requirement urllib3<1.25,>=1.21.1, but you'll have urllib3 1.25.9 which is incompatible.\u001b[0m\n",
            "\u001b[31mERROR: datascience 0.10.6 has requirement folium==0.2.1, but you'll have folium 0.8.3 which is incompatible.\u001b[0m\n",
            "Installing collected packages: fake-useragent, websockets, pyee, tqdm, appdirs, urllib3, pyppeteer, w3lib, cssselect, pyquery, parse, requests-html\n",
            "  Found existing installation: tqdm 4.41.1\n",
            "    Uninstalling tqdm-4.41.1:\n",
            "      Successfully uninstalled tqdm-4.41.1\n",
            "  Found existing installation: urllib3 1.24.3\n",
            "    Uninstalling urllib3-1.24.3:\n",
            "      Successfully uninstalled urllib3-1.24.3\n",
            "Successfully installed appdirs-1.4.4 cssselect-1.1.0 fake-useragent-0.1.11 parse-1.15.0 pyee-7.0.2 pyppeteer-0.2.2 pyquery-1.4.1 requests-html-0.10.0 tqdm-4.46.1 urllib3-1.25.9 w3lib-1.22.0 websockets-8.1\n"
          ],
          "name": "stdout"
        },
        {
          "output_type": "display_data",
          "data": {
            "application/vnd.colab-display-data+json": {
              "pip_warning": {
                "packages": [
                  "tqdm",
                  "urllib3"
                ]
              }
            }
          },
          "metadata": {
            "tags": []
          }
        }
      ]
    },
    {
      "cell_type": "code",
      "metadata": {
        "id": "q_CVxXaVZQ_i",
        "colab_type": "code",
        "colab": {
          "base_uri": "https://localhost:8080/",
          "height": 106
        },
        "outputId": "9c7bff26-2ecc-49e0-8836-4157cc6e5e32"
      },
      "source": [
        "pip install requests"
      ],
      "execution_count": null,
      "outputs": [
        {
          "output_type": "stream",
          "text": [
            "Requirement already satisfied: requests in /usr/local/lib/python3.6/dist-packages (2.23.0)\n",
            "Requirement already satisfied: certifi>=2017.4.17 in /usr/local/lib/python3.6/dist-packages (from requests) (2020.4.5.2)\n",
            "Requirement already satisfied: idna<3,>=2.5 in /usr/local/lib/python3.6/dist-packages (from requests) (2.9)\n",
            "Requirement already satisfied: urllib3!=1.25.0,!=1.25.1,<1.26,>=1.21.1 in /usr/local/lib/python3.6/dist-packages (from requests) (1.25.9)\n",
            "Requirement already satisfied: chardet<4,>=3.0.2 in /usr/local/lib/python3.6/dist-packages (from requests) (3.0.4)\n"
          ],
          "name": "stdout"
        }
      ]
    },
    {
      "cell_type": "code",
      "metadata": {
        "id": "d5-m2PTPZS9-",
        "colab_type": "code",
        "colab": {
          "base_uri": "https://localhost:8080/",
          "height": 53
        },
        "outputId": "280192a0-f8cf-418f-a7f9-b37526196f2e"
      },
      "source": [
        "pip install bs4"
      ],
      "execution_count": null,
      "outputs": [
        {
          "output_type": "stream",
          "text": [
            "Requirement already satisfied: bs4 in /usr/local/lib/python3.6/dist-packages (0.0.1)\n",
            "Requirement already satisfied: beautifulsoup4 in /usr/local/lib/python3.6/dist-packages (from bs4) (4.6.3)\n"
          ],
          "name": "stdout"
        }
      ]
    },
    {
      "cell_type": "code",
      "metadata": {
        "id": "F0DwU1Pl13-P",
        "colab_type": "code",
        "colab": {
          "base_uri": "https://localhost:8080/",
          "height": 88
        },
        "outputId": "4770b081-21b6-43fc-b626-aea40802b0b4"
      },
      "source": [
        "pip install yahoo_fin"
      ],
      "execution_count": null,
      "outputs": [
        {
          "output_type": "stream",
          "text": [
            "Collecting yahoo_fin\n",
            "  Downloading https://files.pythonhosted.org/packages/b4/e8/b42de33475fb22ea051753a64c1b101ee901df88013801f722001998b36d/yahoo_fin-0.8.5-py3-none-any.whl\n",
            "Installing collected packages: yahoo-fin\n",
            "Successfully installed yahoo-fin-0.8.5\n"
          ],
          "name": "stdout"
        }
      ]
    },
    {
      "cell_type": "code",
      "metadata": {
        "id": "i3lcLOmL1hOc",
        "colab_type": "code",
        "colab": {}
      },
      "source": [
        "import pandas as pd\n",
        "import numpy as np\n",
        "from yahoo_fin.stock_info import *\n",
        "import matplotlib.pyplot as plt\n",
        "import matplotlib.ticker as mtick\n",
        "from tabulate import tabulate\n",
        "import scipy.stats as st\n",
        "import requests\n",
        "from bs4 import BeautifulSoup\n",
        "import datetime as dt#get current date"
      ],
      "execution_count": null,
      "outputs": []
    },
    {
      "cell_type": "code",
      "metadata": {
        "id": "wk03V1M21luh",
        "colab_type": "code",
        "colab": {}
      },
      "source": [
        "def calculate_ret(ticker,start,end,period):\n",
        "  data = get_data(ticker,start_date=start,end_date=end,index_as_date=True,interval=period)['adjclose'].dropna()\n",
        "  ret = data.pct_change()[1:]\n",
        "  return ret"
      ],
      "execution_count": null,
      "outputs": []
    },
    {
      "cell_type": "code",
      "metadata": {
        "id": "rheelBeN3Agw",
        "colab_type": "code",
        "colab": {}
      },
      "source": [
        "def Plot(hist_ret,stock_name,Start,End):\n",
        "  plt.figure(figsize=(20,10))\n",
        "  plt.gca().xaxis.set_major_formatter(mtick.PercentFormatter())\n",
        "  (count,bins,dum)=plt.hist(hist_ret*100)\n",
        "  plt.suptitle('   hist for '+stock_name,fontsize = 24)\n",
        "  plt.xlabel('Return',fontsize = 15)\n",
        "  plt.ylabel('Frequency',fontsize = 15)\n",
        "\n",
        "  plt.title(Start+' to '+End,fontsize = 16)\n",
        "  bins = np.floor(bins)\n",
        "  tuples = []\n",
        "  for ele in range(len(bins)-1):\n",
        "    tuple_range = (bins[ele],bins[ele+1])\n",
        "    tuples.append(tuple_range) \n",
        "  print('Estimated mean = '+str(round(hist_ret.mean(),4)))\n",
        "  print('Estimated std = '+str(round(hist_ret.std(),4)))\n",
        "  return tuples,count,bins"
      ],
      "execution_count": null,
      "outputs": []
    },
    {
      "cell_type": "code",
      "metadata": {
        "id": "lnYUWXq7ZkHV",
        "colab_type": "code",
        "colab": {}
      },
      "source": [
        "def html_beautifulsoup(url):\n",
        "    response = requests.get(url)\n",
        "    html = response.content\n",
        "\n",
        "    #beautifulsoup html will not look like soure\n",
        "    #review beautifulsoup html to use find and findall\n",
        "    soup = BeautifulSoup(html,\"lxml\")\n",
        "    return soup\n",
        "\n",
        "#soup_html: soup html is not same as source html\n",
        "def yahoo_description(soup_html):\n",
        "    element = soup_html.find('h1',class_='D(ib) Fz(16px) Lh(18px)')\n",
        "    return element.text  "
      ],
      "execution_count": null,
      "outputs": []
    },
    {
      "cell_type": "code",
      "metadata": {
        "id": "ReaFjdknuEOZ",
        "colab_type": "code",
        "colab": {}
      },
      "source": [
        "def usr_input():\n",
        "  previousday = dt.date.today()-dt.timedelta(days=1)# get the date of previous day\n",
        "  Default_end = previousday.strftime(\"%Y-%m-%d\") # change the format of the default datetime \n",
        "  years_ago = dt.date.today()-dt.timedelta(days=1852)\n",
        "  Default_start = years_ago.strftime(\"%Y-%m-%d\")\n",
        "  Ticker = input('Please enter ticker(Default = JNJ)-->') or 'JNJ'\n",
        "  Start = input('Enter start date(' + 'Default = 5 Years ago, ' + Default_start + ')-->') or Default_start\n",
        "  End = input('Enter end date(Default = Yesterday, ' + Default_end + ')-->') or Default_end\n",
        "  T_interval = input('Enter date interval(1d,1wk,1mo Default = 1mo)-->') or '1mo'\n",
        "  print(\"\")\n",
        "\n",
        "  soup_html = html_beautifulsoup(\"https://finance.yahoo.com/quote/\"  + Ticker)\n",
        "  stock_name = yahoo_description(soup_html)\n",
        "\n",
        "  return Ticker,Start,End,T_interval,stock_name"
      ],
      "execution_count": null,
      "outputs": []
    },
    {
      "cell_type": "code",
      "metadata": {
        "id": "oIj6xu7l5y1W",
        "colab_type": "code",
        "colab": {
          "base_uri": "https://localhost:8080/",
          "height": 807
        },
        "outputId": "744df468-2f76-4714-dbeb-0b31ea9f0691"
      },
      "source": [
        "Ticker,Start,End,T_interval,stock_name = usr_input()\n",
        "ret = calculate_ret(Ticker,Start,End,T_interval)\n",
        "tuples,count,bins=Plot(ret,stock_name,Start,End)"
      ],
      "execution_count": null,
      "outputs": [
        {
          "output_type": "stream",
          "text": [
            "Please enter ticker(Default = JNJ)-->\n",
            "Enter start date(Default = 5 Years ago, 2015-05-26)-->\n",
            "Enter end date(Default = Yesterday, 2020-06-19)-->\n",
            "Enter date interval(1d,1wk,1mo Default = 1mo)-->\n",
            "\n",
            "Estimated mean = 0.0099\n",
            "Estimated std = 0.0465\n"
          ],
          "name": "stdout"
        },
        {
          "output_type": "display_data",
          "data": {
            "image/png": "[encoded data removed]",
            "text/plain": [
              "<Figure size 1440x720 with 1 Axes>"
            ]
          },
          "metadata": {
            "tags": [],
            "needs_background": "light"
          }
        }
      ]
    },
    {
      "cell_type": "markdown",
      "metadata": {
        "id": "gPyG8EVRE513",
        "colab_type": "text"
      },
      "source": [
        "Rate of return data"
      ]
    },
    {
      "cell_type": "code",
      "metadata": {
        "id": "DrurSI-6-zMr",
        "colab_type": "code",
        "colab": {
          "base_uri": "https://localhost:8080/",
          "height": 231
        },
        "outputId": "a26149d7-8a9f-4e83-8d47-43c248277d28"
      },
      "source": [
        "dict_data = pd.Series(count,index=tuples)\n",
        "frame_data = dict_data.to_frame()\n",
        "frame_data.columns = ['frequency']\n",
        "#normalized X\n",
        "normd_X = []\n",
        "for ele in range(len(bins)):\n",
        "  normd_ele = round((bins[ele]/100.0-ret.mean())/ret.std(),2)\n",
        "  normd_X.append(normd_ele)\n",
        "#calculate cdf\n",
        "cdf = np.round(st.norm.cdf(normd_X),4)\n",
        "#shade under cdf\n",
        "shade_cdf = np.diff(cdf)\n",
        "#expected frequency\n",
        "freq = np.multiply(shade_cdf,len(ret))\n",
        "#difference of expected freq and actual freq\n",
        "diff = count - freq\n",
        "#output \n",
        "output = np.divide(pow(diff,2),freq)\n",
        "output[output==np.inf] = 0\n",
        "frame_data.insert(1, \"X\", bins[:-1], True) \n",
        "frame_data.insert(2, \"Z\", normd_X[:-1], True) \n",
        "frame_data.insert(3, \"CDF\", cdf[:-1], True) \n",
        "frame_data.insert(4, \"Area P\", shade_cdf, True) \n",
        "frame_data.insert(5, \"Expect freq\", freq, True) \n",
        "frame_data.insert(6, \"(Fo - Fe)\", diff, True) \n",
        "frame_data.insert(7, \"(Fo - Fe)\\u00b2 /Fe\", output, True) \n",
        "print(tabulate(frame_data,frame_data.columns))"
      ],
      "execution_count": null,
      "outputs": [
        {
          "output_type": "stream",
          "text": [
            "                 frequency    X      Z     CDF    Area P    Expect freq    (Fo - Fe)    (Fo - Fe)² /Fe\n",
            "-------------  -----------  ---  -----  ------  --------  -------------  -----------  ----------------\n",
            "(-12.0, -9.0)            2  -12  -2.79  0.0026    0.0132          0.792        1.208         1.84251\n",
            "(-9.0, -7.0)             2   -9  -2.15  0.0158    0.0269          1.614        0.386         0.0923147\n",
            "(-7.0, -4.0)             5   -7  -1.72  0.0427    0.0996          5.976       -0.976         0.1594\n",
            "(-4.0, -2.0)             6   -4  -1.07  0.1423    0.1188          7.128       -1.128         0.178505\n",
            "(-2.0, 1.0)             16   -2  -0.64  0.2611    0.2389         14.334        1.666         0.193634\n",
            "(1.0, 4.0)              18    1   0     0.5       0.2422         14.532        3.468         0.827623\n",
            "(4.0, 6.0)               3    4   0.65  0.7422    0.1177          7.062       -4.062         2.33643\n",
            "(6.0, 9.0)               7    6   1.08  0.8599    0.0974          5.844        1.156         0.228668\n",
            "(9.0, 11.0)              0    9   1.72  0.9573    0.0269          1.614       -1.614         1.614\n",
            "(11.0, 14.0)             1   11   2.15  0.9842    0.0132          0.792        0.208         0.0546263\n"
          ],
          "name": "stdout"
        }
      ]
    },
    {
      "cell_type": "markdown",
      "metadata": {
        "id": "41fXMiFitqAW",
        "colab_type": "text"
      },
      "source": [
        "chi_square test"
      ]
    },
    {
      "cell_type": "code",
      "metadata": {
        "id": "ZXEZly4LjFxZ",
        "colab_type": "code",
        "colab": {
          "base_uri": "https://localhost:8080/",
          "height": 71
        },
        "outputId": "14f6f37f-6b7f-4c37-8fc9-6c4d2a7f50c3"
      },
      "source": [
        "chi_stat = np.round(st.chi2.ppf(0.95,df = len(count)-1),4)\n",
        "test_stat = np.round(sum(output),4)\n",
        "result = ''\n",
        "print(\"At 5% level of significance\")\n",
        "if test_stat>chi_stat:\n",
        "  result = 'We conclude that the return is not normally distributed with mean {:.4f},and variance of {:.4f}'.format(ret.mean(),ret.std())\n",
        "else:\n",
        "  result = 'We conclude that the return is normally distributed with mean {:.4f},and variance of {:.4f}'.format(ret.mean(),ret.std())\n",
        "print('The statistic is '+str(test_stat)+', the critical value is '+str(chi_stat))\n",
        "print(result)"
      ],
      "execution_count": null,
      "outputs": [
        {
          "output_type": "stream",
          "text": [
            "At 5% level of significance\n",
            "The statistic is 7.5277, the critical value is 16.919\n",
            "We conclude that the return is normally distributed with mean 0.0099,and variance of 0.0465\n"
          ],
          "name": "stdout"
        }
      ]
    }
  ]
}